{
 "cells": [
  {
   "cell_type": "code",
   "execution_count": 1,
   "metadata": {
    "id": "E25l8C4adTU4"
   },
   "outputs": [],
   "source": [
    "import numpy as np\n",
    "import pandas as pd\n",
    "\n",
    "from sklearn.metrics import r2_score\n",
    "from sklearn.decomposition import PCA\n",
    "from catboost import CatBoostRegressor, Pool"
   ]
  },
  {
   "cell_type": "code",
   "execution_count": 2,
   "metadata": {},
   "outputs": [],
   "source": [
    "data = pd.read_csv('data/data_embeded.csv', index_col=0, parse_dates=['created'])\n",
    "comments = pd.read_csv('data/comments_embeded.csv')\n",
    "submission = pd.read_csv('data/sample_solution.csv')\n",
    "\n",
    "data = pd.merge(data, comments, left_on='id', right_on='issue_id', how='left').fillna(0)"
   ]
  },
  {
   "cell_type": "markdown",
   "metadata": {},
   "source": [
    "# Add features"
   ]
  },
  {
   "cell_type": "code",
   "execution_count": 3,
   "metadata": {},
   "outputs": [],
   "source": [
    "data['wd'] = data['created'].dt.weekday\n",
    "data['hour'] = data['created'].dt.hour\n",
    "\n",
    "data['key_code'] = data['key'].apply(lambda x: str(x).split('-')[0])\n",
    "data['communication'] = data['summary'].apply(lambda x: 'communication' in x).astype(int)"
   ]
  },
  {
   "cell_type": "markdown",
   "metadata": {},
   "source": [
    "## PCA"
   ]
  },
  {
   "cell_type": "code",
   "execution_count": 4,
   "metadata": {},
   "outputs": [],
   "source": [
    "# Task PCA\n",
    "\n",
    "pca = PCA(n_components=30, random_state=42)\n",
    "features = [str(x) for x in range(768)]\n",
    "data_pca = pca.fit_transform(data[features])\n",
    "data_pca = pd.DataFrame(data_pca)\n",
    "data_pca.index = data.index\n",
    "data_pca = data_pca.add_prefix('pca_')\n",
    "\n",
    "data = pd.concat([data, data_pca], axis=1)"
   ]
  },
  {
   "cell_type": "code",
   "execution_count": 5,
   "metadata": {},
   "outputs": [],
   "source": [
    "# Comments PCA\n",
    "\n",
    "pca = PCA(n_components=20, random_state=42)\n",
    "features = ['comments_' + str(x) for x in range(768)]\n",
    "data_pca = pca.fit_transform(data[features])\n",
    "data_pca = pd.DataFrame(data_pca)\n",
    "data_pca.index = data.index\n",
    "data_pca = data_pca.add_prefix('pca_comments_')\n",
    "\n",
    "data = pd.concat([data, data_pca], axis=1)"
   ]
  },
  {
   "cell_type": "markdown",
   "metadata": {},
   "source": [
    "# Split data"
   ]
  },
  {
   "cell_type": "code",
   "execution_count": 6,
   "metadata": {},
   "outputs": [
    {
     "data": {
      "text/html": [
       "<div>\n",
       "<style scoped>\n",
       "    .dataframe tbody tr th:only-of-type {\n",
       "        vertical-align: middle;\n",
       "    }\n",
       "\n",
       "    .dataframe tbody tr th {\n",
       "        vertical-align: top;\n",
       "    }\n",
       "\n",
       "    .dataframe thead th {\n",
       "        text-align: right;\n",
       "    }\n",
       "</style>\n",
       "<table border=\"1\" class=\"dataframe\">\n",
       "  <thead>\n",
       "    <tr style=\"text-align: right;\">\n",
       "      <th></th>\n",
       "      <th>id</th>\n",
       "      <th>created</th>\n",
       "      <th>key</th>\n",
       "      <th>summary</th>\n",
       "      <th>project_id</th>\n",
       "      <th>assignee_id</th>\n",
       "      <th>creator_id</th>\n",
       "      <th>overall_worklogs</th>\n",
       "      <th>position_x</th>\n",
       "      <th>position_y</th>\n",
       "      <th>...</th>\n",
       "      <th>pca_comments_10</th>\n",
       "      <th>pca_comments_11</th>\n",
       "      <th>pca_comments_12</th>\n",
       "      <th>pca_comments_13</th>\n",
       "      <th>pca_comments_14</th>\n",
       "      <th>pca_comments_15</th>\n",
       "      <th>pca_comments_16</th>\n",
       "      <th>pca_comments_17</th>\n",
       "      <th>pca_comments_18</th>\n",
       "      <th>pca_comments_19</th>\n",
       "    </tr>\n",
       "  </thead>\n",
       "  <tbody>\n",
       "    <tr>\n",
       "      <th>0</th>\n",
       "      <td>730910</td>\n",
       "      <td>2018-05-22 06:22:47.443</td>\n",
       "      <td>BALT-40</td>\n",
       "      <td>swap places select a template with a topic</td>\n",
       "      <td>13</td>\n",
       "      <td>197</td>\n",
       "      <td>197</td>\n",
       "      <td>60</td>\n",
       "      <td>web разработчик</td>\n",
       "      <td>web разработчик</td>\n",
       "      <td>...</td>\n",
       "      <td>-0.000085</td>\n",
       "      <td>0.012021</td>\n",
       "      <td>-0.00118</td>\n",
       "      <td>-0.008447</td>\n",
       "      <td>0.002454</td>\n",
       "      <td>0.001499</td>\n",
       "      <td>0.000974</td>\n",
       "      <td>-0.000365</td>\n",
       "      <td>-0.001921</td>\n",
       "      <td>0.001979</td>\n",
       "    </tr>\n",
       "    <tr>\n",
       "      <th>1</th>\n",
       "      <td>730192</td>\n",
       "      <td>2018-11-14 10:32:18.948</td>\n",
       "      <td>BALT-762</td>\n",
       "      <td>added terraform config to create kms key and a...</td>\n",
       "      <td>13</td>\n",
       "      <td>210</td>\n",
       "      <td>210</td>\n",
       "      <td>60</td>\n",
       "      <td>директор по it</td>\n",
       "      <td>директор по it</td>\n",
       "      <td>...</td>\n",
       "      <td>-0.000085</td>\n",
       "      <td>0.012021</td>\n",
       "      <td>-0.00118</td>\n",
       "      <td>-0.008447</td>\n",
       "      <td>0.002454</td>\n",
       "      <td>0.001499</td>\n",
       "      <td>0.000974</td>\n",
       "      <td>-0.000365</td>\n",
       "      <td>-0.001921</td>\n",
       "      <td>0.001979</td>\n",
       "    </tr>\n",
       "    <tr>\n",
       "      <th>2</th>\n",
       "      <td>726278</td>\n",
       "      <td>2020-03-24 08:17:18.389</td>\n",
       "      <td>BALT-4676</td>\n",
       "      <td>check context menu</td>\n",
       "      <td>13</td>\n",
       "      <td>208</td>\n",
       "      <td>33</td>\n",
       "      <td>60</td>\n",
       "      <td>web разработчик</td>\n",
       "      <td>web разработчик</td>\n",
       "      <td>...</td>\n",
       "      <td>-0.000085</td>\n",
       "      <td>0.012021</td>\n",
       "      <td>-0.00118</td>\n",
       "      <td>-0.008447</td>\n",
       "      <td>0.002454</td>\n",
       "      <td>0.001499</td>\n",
       "      <td>0.000974</td>\n",
       "      <td>-0.000365</td>\n",
       "      <td>-0.001921</td>\n",
       "      <td>0.001979</td>\n",
       "    </tr>\n",
       "    <tr>\n",
       "      <th>3</th>\n",
       "      <td>730915</td>\n",
       "      <td>2018-05-22 06:16:44.070</td>\n",
       "      <td>BALT-35</td>\n",
       "      <td>rename \"your topic\" in \"choose your class\"</td>\n",
       "      <td>13</td>\n",
       "      <td>197</td>\n",
       "      <td>197</td>\n",
       "      <td>120</td>\n",
       "      <td>web разработчик</td>\n",
       "      <td>web разработчик</td>\n",
       "      <td>...</td>\n",
       "      <td>-0.000085</td>\n",
       "      <td>0.012021</td>\n",
       "      <td>-0.00118</td>\n",
       "      <td>-0.008447</td>\n",
       "      <td>0.002454</td>\n",
       "      <td>0.001499</td>\n",
       "      <td>0.000974</td>\n",
       "      <td>-0.000365</td>\n",
       "      <td>-0.001921</td>\n",
       "      <td>0.001979</td>\n",
       "    </tr>\n",
       "    <tr>\n",
       "      <th>4</th>\n",
       "      <td>730912</td>\n",
       "      <td>2018-05-22 06:19:32.828</td>\n",
       "      <td>BALT-38</td>\n",
       "      <td>remove qualification from main list</td>\n",
       "      <td>13</td>\n",
       "      <td>197</td>\n",
       "      <td>197</td>\n",
       "      <td>120</td>\n",
       "      <td>web разработчик</td>\n",
       "      <td>web разработчик</td>\n",
       "      <td>...</td>\n",
       "      <td>-0.000085</td>\n",
       "      <td>0.012021</td>\n",
       "      <td>-0.00118</td>\n",
       "      <td>-0.008447</td>\n",
       "      <td>0.002454</td>\n",
       "      <td>0.001499</td>\n",
       "      <td>0.000974</td>\n",
       "      <td>-0.000365</td>\n",
       "      <td>-0.001921</td>\n",
       "      <td>0.001979</td>\n",
       "    </tr>\n",
       "    <tr>\n",
       "      <th>...</th>\n",
       "      <td>...</td>\n",
       "      <td>...</td>\n",
       "      <td>...</td>\n",
       "      <td>...</td>\n",
       "      <td>...</td>\n",
       "      <td>...</td>\n",
       "      <td>...</td>\n",
       "      <td>...</td>\n",
       "      <td>...</td>\n",
       "      <td>...</td>\n",
       "      <td>...</td>\n",
       "      <td>...</td>\n",
       "      <td>...</td>\n",
       "      <td>...</td>\n",
       "      <td>...</td>\n",
       "      <td>...</td>\n",
       "      <td>...</td>\n",
       "      <td>...</td>\n",
       "      <td>...</td>\n",
       "      <td>...</td>\n",
       "      <td>...</td>\n",
       "    </tr>\n",
       "    <tr>\n",
       "      <th>9584</th>\n",
       "      <td>823985</td>\n",
       "      <td>2019-08-14 15:29:30.000</td>\n",
       "      <td>FPY-124</td>\n",
       "      <td>communication soldering iron</td>\n",
       "      <td>29</td>\n",
       "      <td>384</td>\n",
       "      <td>384</td>\n",
       "      <td>729000</td>\n",
       "      <td>web разработчик</td>\n",
       "      <td>web разработчик</td>\n",
       "      <td>...</td>\n",
       "      <td>-0.000085</td>\n",
       "      <td>0.012021</td>\n",
       "      <td>-0.00118</td>\n",
       "      <td>-0.008447</td>\n",
       "      <td>0.002454</td>\n",
       "      <td>0.001499</td>\n",
       "      <td>0.000974</td>\n",
       "      <td>-0.000365</td>\n",
       "      <td>-0.001921</td>\n",
       "      <td>0.001979</td>\n",
       "    </tr>\n",
       "    <tr>\n",
       "      <th>9585</th>\n",
       "      <td>729633</td>\n",
       "      <td>2019-06-25 12:32:21.254</td>\n",
       "      <td>BALT-1321</td>\n",
       "      <td>communications and planning</td>\n",
       "      <td>13</td>\n",
       "      <td>1</td>\n",
       "      <td>10</td>\n",
       "      <td>2097720</td>\n",
       "      <td>missing</td>\n",
       "      <td>web разработчик</td>\n",
       "      <td>...</td>\n",
       "      <td>-0.000085</td>\n",
       "      <td>0.012021</td>\n",
       "      <td>-0.00118</td>\n",
       "      <td>-0.008447</td>\n",
       "      <td>0.002454</td>\n",
       "      <td>0.001499</td>\n",
       "      <td>0.000974</td>\n",
       "      <td>-0.000365</td>\n",
       "      <td>-0.001921</td>\n",
       "      <td>0.001979</td>\n",
       "    </tr>\n",
       "    <tr>\n",
       "      <th>9586</th>\n",
       "      <td>728296</td>\n",
       "      <td>2019-11-06 10:09:07.899</td>\n",
       "      <td>BALT-2658</td>\n",
       "      <td>communications and planning</td>\n",
       "      <td>13</td>\n",
       "      <td>1</td>\n",
       "      <td>10</td>\n",
       "      <td>2328360</td>\n",
       "      <td>missing</td>\n",
       "      <td>web разработчик</td>\n",
       "      <td>...</td>\n",
       "      <td>-0.000085</td>\n",
       "      <td>0.012021</td>\n",
       "      <td>-0.00118</td>\n",
       "      <td>-0.008447</td>\n",
       "      <td>0.002454</td>\n",
       "      <td>0.001499</td>\n",
       "      <td>0.000974</td>\n",
       "      <td>-0.000365</td>\n",
       "      <td>-0.001921</td>\n",
       "      <td>0.001979</td>\n",
       "    </tr>\n",
       "    <tr>\n",
       "      <th>9587</th>\n",
       "      <td>727996</td>\n",
       "      <td>2019-11-30 05:22:23.728</td>\n",
       "      <td>BALT-2958</td>\n",
       "      <td>communications</td>\n",
       "      <td>13</td>\n",
       "      <td>193</td>\n",
       "      <td>193</td>\n",
       "      <td>3393960</td>\n",
       "      <td>менеджер проектов</td>\n",
       "      <td>менеджер проектов</td>\n",
       "      <td>...</td>\n",
       "      <td>-0.000085</td>\n",
       "      <td>0.012021</td>\n",
       "      <td>-0.00118</td>\n",
       "      <td>-0.008447</td>\n",
       "      <td>0.002454</td>\n",
       "      <td>0.001499</td>\n",
       "      <td>0.000974</td>\n",
       "      <td>-0.000365</td>\n",
       "      <td>-0.001921</td>\n",
       "      <td>0.001979</td>\n",
       "    </tr>\n",
       "    <tr>\n",
       "      <th>9588</th>\n",
       "      <td>726646</td>\n",
       "      <td>2020-02-25 14:58:33.148</td>\n",
       "      <td>BALT-4308</td>\n",
       "      <td>communications and planning</td>\n",
       "      <td>13</td>\n",
       "      <td>1</td>\n",
       "      <td>10</td>\n",
       "      <td>7014000</td>\n",
       "      <td>missing</td>\n",
       "      <td>web разработчик</td>\n",
       "      <td>...</td>\n",
       "      <td>-0.000085</td>\n",
       "      <td>0.012021</td>\n",
       "      <td>-0.00118</td>\n",
       "      <td>-0.008447</td>\n",
       "      <td>0.002454</td>\n",
       "      <td>0.001499</td>\n",
       "      <td>0.000974</td>\n",
       "      <td>-0.000365</td>\n",
       "      <td>-0.001921</td>\n",
       "      <td>0.001979</td>\n",
       "    </tr>\n",
       "  </tbody>\n",
       "</table>\n",
       "<p>9589 rows × 1603 columns</p>\n",
       "</div>"
      ],
      "text/plain": [
       "          id                 created        key  \\\n",
       "0     730910 2018-05-22 06:22:47.443    BALT-40   \n",
       "1     730192 2018-11-14 10:32:18.948   BALT-762   \n",
       "2     726278 2020-03-24 08:17:18.389  BALT-4676   \n",
       "3     730915 2018-05-22 06:16:44.070    BALT-35   \n",
       "4     730912 2018-05-22 06:19:32.828    BALT-38   \n",
       "...      ...                     ...        ...   \n",
       "9584  823985 2019-08-14 15:29:30.000    FPY-124   \n",
       "9585  729633 2019-06-25 12:32:21.254  BALT-1321   \n",
       "9586  728296 2019-11-06 10:09:07.899  BALT-2658   \n",
       "9587  727996 2019-11-30 05:22:23.728  BALT-2958   \n",
       "9588  726646 2020-02-25 14:58:33.148  BALT-4308   \n",
       "\n",
       "                                                summary  project_id  \\\n",
       "0            swap places select a template with a topic          13   \n",
       "1     added terraform config to create kms key and a...          13   \n",
       "2                                    check context menu          13   \n",
       "3            rename \"your topic\" in \"choose your class\"          13   \n",
       "4                   remove qualification from main list          13   \n",
       "...                                                 ...         ...   \n",
       "9584                       communication soldering iron          29   \n",
       "9585                        communications and planning          13   \n",
       "9586                        communications and planning          13   \n",
       "9587                                     communications          13   \n",
       "9588                        communications and planning          13   \n",
       "\n",
       "      assignee_id  creator_id  overall_worklogs         position_x  \\\n",
       "0             197         197                60    web разработчик   \n",
       "1             210         210                60     директор по it   \n",
       "2             208          33                60    web разработчик   \n",
       "3             197         197               120    web разработчик   \n",
       "4             197         197               120    web разработчик   \n",
       "...           ...         ...               ...                ...   \n",
       "9584          384         384            729000    web разработчик   \n",
       "9585            1          10           2097720            missing   \n",
       "9586            1          10           2328360            missing   \n",
       "9587          193         193           3393960  менеджер проектов   \n",
       "9588            1          10           7014000            missing   \n",
       "\n",
       "             position_y  ...  pca_comments_10  pca_comments_11  \\\n",
       "0       web разработчик  ...        -0.000085         0.012021   \n",
       "1        директор по it  ...        -0.000085         0.012021   \n",
       "2       web разработчик  ...        -0.000085         0.012021   \n",
       "3       web разработчик  ...        -0.000085         0.012021   \n",
       "4       web разработчик  ...        -0.000085         0.012021   \n",
       "...                 ...  ...              ...              ...   \n",
       "9584    web разработчик  ...        -0.000085         0.012021   \n",
       "9585    web разработчик  ...        -0.000085         0.012021   \n",
       "9586    web разработчик  ...        -0.000085         0.012021   \n",
       "9587  менеджер проектов  ...        -0.000085         0.012021   \n",
       "9588    web разработчик  ...        -0.000085         0.012021   \n",
       "\n",
       "      pca_comments_12  pca_comments_13  pca_comments_14  pca_comments_15  \\\n",
       "0            -0.00118        -0.008447         0.002454         0.001499   \n",
       "1            -0.00118        -0.008447         0.002454         0.001499   \n",
       "2            -0.00118        -0.008447         0.002454         0.001499   \n",
       "3            -0.00118        -0.008447         0.002454         0.001499   \n",
       "4            -0.00118        -0.008447         0.002454         0.001499   \n",
       "...               ...              ...              ...              ...   \n",
       "9584         -0.00118        -0.008447         0.002454         0.001499   \n",
       "9585         -0.00118        -0.008447         0.002454         0.001499   \n",
       "9586         -0.00118        -0.008447         0.002454         0.001499   \n",
       "9587         -0.00118        -0.008447         0.002454         0.001499   \n",
       "9588         -0.00118        -0.008447         0.002454         0.001499   \n",
       "\n",
       "      pca_comments_16  pca_comments_17  pca_comments_18  pca_comments_19  \n",
       "0            0.000974        -0.000365        -0.001921         0.001979  \n",
       "1            0.000974        -0.000365        -0.001921         0.001979  \n",
       "2            0.000974        -0.000365        -0.001921         0.001979  \n",
       "3            0.000974        -0.000365        -0.001921         0.001979  \n",
       "4            0.000974        -0.000365        -0.001921         0.001979  \n",
       "...               ...              ...              ...              ...  \n",
       "9584         0.000974        -0.000365        -0.001921         0.001979  \n",
       "9585         0.000974        -0.000365        -0.001921         0.001979  \n",
       "9586         0.000974        -0.000365        -0.001921         0.001979  \n",
       "9587         0.000974        -0.000365        -0.001921         0.001979  \n",
       "9588         0.000974        -0.000365        -0.001921         0.001979  \n",
       "\n",
       "[9589 rows x 1603 columns]"
      ]
     },
     "execution_count": 6,
     "metadata": {},
     "output_type": "execute_result"
    }
   ],
   "source": [
    "target = 'overall_worklogs'\n",
    "\n",
    "test_data = data[data[target] == -1]\n",
    "train_data = data[data[target] > -1].sort_values(['communication', target, 'created', 'project_id', 'key_code'])\n",
    "train_data.index = range(train_data.shape[0])\n",
    "train_data"
   ]
  },
  {
   "cell_type": "markdown",
   "metadata": {},
   "source": [
    "# Delete outliers"
   ]
  },
  {
   "cell_type": "code",
   "execution_count": 7,
   "metadata": {
    "scrolled": false
   },
   "outputs": [
    {
     "data": {
      "text/html": [
       "<div>\n",
       "<style scoped>\n",
       "    .dataframe tbody tr th:only-of-type {\n",
       "        vertical-align: middle;\n",
       "    }\n",
       "\n",
       "    .dataframe tbody tr th {\n",
       "        vertical-align: top;\n",
       "    }\n",
       "\n",
       "    .dataframe thead th {\n",
       "        text-align: right;\n",
       "    }\n",
       "</style>\n",
       "<table border=\"1\" class=\"dataframe\">\n",
       "  <thead>\n",
       "    <tr style=\"text-align: right;\">\n",
       "      <th></th>\n",
       "      <th>id</th>\n",
       "      <th>created</th>\n",
       "      <th>key</th>\n",
       "      <th>summary</th>\n",
       "      <th>project_id</th>\n",
       "      <th>assignee_id</th>\n",
       "      <th>creator_id</th>\n",
       "      <th>overall_worklogs</th>\n",
       "      <th>position_x</th>\n",
       "      <th>position_y</th>\n",
       "      <th>...</th>\n",
       "      <th>pca_comments_10</th>\n",
       "      <th>pca_comments_11</th>\n",
       "      <th>pca_comments_12</th>\n",
       "      <th>pca_comments_13</th>\n",
       "      <th>pca_comments_14</th>\n",
       "      <th>pca_comments_15</th>\n",
       "      <th>pca_comments_16</th>\n",
       "      <th>pca_comments_17</th>\n",
       "      <th>pca_comments_18</th>\n",
       "      <th>pca_comments_19</th>\n",
       "    </tr>\n",
       "  </thead>\n",
       "  <tbody>\n",
       "    <tr>\n",
       "      <th>16</th>\n",
       "      <td>729718</td>\n",
       "      <td>2019-06-11 07:38:48.729</td>\n",
       "      <td>BALT-1236</td>\n",
       "      <td>give access to ssh of staging</td>\n",
       "      <td>13</td>\n",
       "      <td>1</td>\n",
       "      <td>10</td>\n",
       "      <td>300</td>\n",
       "      <td>missing</td>\n",
       "      <td>web разработчик</td>\n",
       "      <td>...</td>\n",
       "      <td>0.391457</td>\n",
       "      <td>0.850506</td>\n",
       "      <td>0.224292</td>\n",
       "      <td>-0.696926</td>\n",
       "      <td>-1.570101</td>\n",
       "      <td>0.325283</td>\n",
       "      <td>0.251527</td>\n",
       "      <td>-0.529438</td>\n",
       "      <td>-0.982430</td>\n",
       "      <td>-1.003414</td>\n",
       "    </tr>\n",
       "    <tr>\n",
       "      <th>22</th>\n",
       "      <td>729404</td>\n",
       "      <td>2019-07-17 06:20:57.476</td>\n",
       "      <td>BALT-1550</td>\n",
       "      <td>give access to teacherly repository on the gitlab</td>\n",
       "      <td>13</td>\n",
       "      <td>1</td>\n",
       "      <td>10</td>\n",
       "      <td>300</td>\n",
       "      <td>missing</td>\n",
       "      <td>web разработчик</td>\n",
       "      <td>...</td>\n",
       "      <td>0.302703</td>\n",
       "      <td>0.380628</td>\n",
       "      <td>0.618980</td>\n",
       "      <td>-1.287057</td>\n",
       "      <td>-1.311682</td>\n",
       "      <td>-1.111611</td>\n",
       "      <td>-1.122638</td>\n",
       "      <td>1.836483</td>\n",
       "      <td>-0.035554</td>\n",
       "      <td>-0.810953</td>\n",
       "    </tr>\n",
       "    <tr>\n",
       "      <th>30</th>\n",
       "      <td>728883</td>\n",
       "      <td>2019-09-09 08:06:08.531</td>\n",
       "      <td>BALT-2071</td>\n",
       "      <td>branch need to be protected</td>\n",
       "      <td>13</td>\n",
       "      <td>1</td>\n",
       "      <td>10</td>\n",
       "      <td>300</td>\n",
       "      <td>missing</td>\n",
       "      <td>web разработчик</td>\n",
       "      <td>...</td>\n",
       "      <td>-0.000085</td>\n",
       "      <td>0.012021</td>\n",
       "      <td>-0.001180</td>\n",
       "      <td>-0.008447</td>\n",
       "      <td>0.002454</td>\n",
       "      <td>0.001499</td>\n",
       "      <td>0.000974</td>\n",
       "      <td>-0.000365</td>\n",
       "      <td>-0.001921</td>\n",
       "      <td>0.001979</td>\n",
       "    </tr>\n",
       "    <tr>\n",
       "      <th>32</th>\n",
       "      <td>728458</td>\n",
       "      <td>2019-10-21 06:23:16.586</td>\n",
       "      <td>BALT-2496</td>\n",
       "      <td>need to be able to raise staging from themes &amp;...</td>\n",
       "      <td>13</td>\n",
       "      <td>1</td>\n",
       "      <td>10</td>\n",
       "      <td>300</td>\n",
       "      <td>missing</td>\n",
       "      <td>web разработчик</td>\n",
       "      <td>...</td>\n",
       "      <td>-0.335568</td>\n",
       "      <td>1.564822</td>\n",
       "      <td>0.111538</td>\n",
       "      <td>-0.493907</td>\n",
       "      <td>0.153866</td>\n",
       "      <td>-0.234000</td>\n",
       "      <td>0.259314</td>\n",
       "      <td>0.003346</td>\n",
       "      <td>0.339946</td>\n",
       "      <td>-1.583033</td>\n",
       "    </tr>\n",
       "    <tr>\n",
       "      <th>159</th>\n",
       "      <td>729054</td>\n",
       "      <td>2019-08-23 06:24:00.121</td>\n",
       "      <td>BALT-1900</td>\n",
       "      <td>provide staging database-dump</td>\n",
       "      <td>13</td>\n",
       "      <td>1</td>\n",
       "      <td>10</td>\n",
       "      <td>600</td>\n",
       "      <td>missing</td>\n",
       "      <td>web разработчик</td>\n",
       "      <td>...</td>\n",
       "      <td>-0.000085</td>\n",
       "      <td>0.012021</td>\n",
       "      <td>-0.001180</td>\n",
       "      <td>-0.008447</td>\n",
       "      <td>0.002454</td>\n",
       "      <td>0.001499</td>\n",
       "      <td>0.000974</td>\n",
       "      <td>-0.000365</td>\n",
       "      <td>-0.001921</td>\n",
       "      <td>0.001979</td>\n",
       "    </tr>\n",
       "    <tr>\n",
       "      <th>...</th>\n",
       "      <td>...</td>\n",
       "      <td>...</td>\n",
       "      <td>...</td>\n",
       "      <td>...</td>\n",
       "      <td>...</td>\n",
       "      <td>...</td>\n",
       "      <td>...</td>\n",
       "      <td>...</td>\n",
       "      <td>...</td>\n",
       "      <td>...</td>\n",
       "      <td>...</td>\n",
       "      <td>...</td>\n",
       "      <td>...</td>\n",
       "      <td>...</td>\n",
       "      <td>...</td>\n",
       "      <td>...</td>\n",
       "      <td>...</td>\n",
       "      <td>...</td>\n",
       "      <td>...</td>\n",
       "      <td>...</td>\n",
       "      <td>...</td>\n",
       "    </tr>\n",
       "    <tr>\n",
       "      <th>9537</th>\n",
       "      <td>687555</td>\n",
       "      <td>2020-04-02 12:45:35.000</td>\n",
       "      <td>XXO-315</td>\n",
       "      <td>all calls</td>\n",
       "      <td>33</td>\n",
       "      <td>58</td>\n",
       "      <td>58</td>\n",
       "      <td>1707600</td>\n",
       "      <td>менеджер проектов</td>\n",
       "      <td>менеджер проектов</td>\n",
       "      <td>...</td>\n",
       "      <td>-0.000085</td>\n",
       "      <td>0.012021</td>\n",
       "      <td>-0.001180</td>\n",
       "      <td>-0.008447</td>\n",
       "      <td>0.002454</td>\n",
       "      <td>0.001499</td>\n",
       "      <td>0.000974</td>\n",
       "      <td>-0.000365</td>\n",
       "      <td>-0.001921</td>\n",
       "      <td>0.001979</td>\n",
       "    </tr>\n",
       "    <tr>\n",
       "      <th>9585</th>\n",
       "      <td>729633</td>\n",
       "      <td>2019-06-25 12:32:21.254</td>\n",
       "      <td>BALT-1321</td>\n",
       "      <td>communications and planning</td>\n",
       "      <td>13</td>\n",
       "      <td>1</td>\n",
       "      <td>10</td>\n",
       "      <td>2097720</td>\n",
       "      <td>missing</td>\n",
       "      <td>web разработчик</td>\n",
       "      <td>...</td>\n",
       "      <td>-0.000085</td>\n",
       "      <td>0.012021</td>\n",
       "      <td>-0.001180</td>\n",
       "      <td>-0.008447</td>\n",
       "      <td>0.002454</td>\n",
       "      <td>0.001499</td>\n",
       "      <td>0.000974</td>\n",
       "      <td>-0.000365</td>\n",
       "      <td>-0.001921</td>\n",
       "      <td>0.001979</td>\n",
       "    </tr>\n",
       "    <tr>\n",
       "      <th>9586</th>\n",
       "      <td>728296</td>\n",
       "      <td>2019-11-06 10:09:07.899</td>\n",
       "      <td>BALT-2658</td>\n",
       "      <td>communications and planning</td>\n",
       "      <td>13</td>\n",
       "      <td>1</td>\n",
       "      <td>10</td>\n",
       "      <td>2328360</td>\n",
       "      <td>missing</td>\n",
       "      <td>web разработчик</td>\n",
       "      <td>...</td>\n",
       "      <td>-0.000085</td>\n",
       "      <td>0.012021</td>\n",
       "      <td>-0.001180</td>\n",
       "      <td>-0.008447</td>\n",
       "      <td>0.002454</td>\n",
       "      <td>0.001499</td>\n",
       "      <td>0.000974</td>\n",
       "      <td>-0.000365</td>\n",
       "      <td>-0.001921</td>\n",
       "      <td>0.001979</td>\n",
       "    </tr>\n",
       "    <tr>\n",
       "      <th>9587</th>\n",
       "      <td>727996</td>\n",
       "      <td>2019-11-30 05:22:23.728</td>\n",
       "      <td>BALT-2958</td>\n",
       "      <td>communications</td>\n",
       "      <td>13</td>\n",
       "      <td>193</td>\n",
       "      <td>193</td>\n",
       "      <td>3393960</td>\n",
       "      <td>менеджер проектов</td>\n",
       "      <td>менеджер проектов</td>\n",
       "      <td>...</td>\n",
       "      <td>-0.000085</td>\n",
       "      <td>0.012021</td>\n",
       "      <td>-0.001180</td>\n",
       "      <td>-0.008447</td>\n",
       "      <td>0.002454</td>\n",
       "      <td>0.001499</td>\n",
       "      <td>0.000974</td>\n",
       "      <td>-0.000365</td>\n",
       "      <td>-0.001921</td>\n",
       "      <td>0.001979</td>\n",
       "    </tr>\n",
       "    <tr>\n",
       "      <th>9588</th>\n",
       "      <td>726646</td>\n",
       "      <td>2020-02-25 14:58:33.148</td>\n",
       "      <td>BALT-4308</td>\n",
       "      <td>communications and planning</td>\n",
       "      <td>13</td>\n",
       "      <td>1</td>\n",
       "      <td>10</td>\n",
       "      <td>7014000</td>\n",
       "      <td>missing</td>\n",
       "      <td>web разработчик</td>\n",
       "      <td>...</td>\n",
       "      <td>-0.000085</td>\n",
       "      <td>0.012021</td>\n",
       "      <td>-0.001180</td>\n",
       "      <td>-0.008447</td>\n",
       "      <td>0.002454</td>\n",
       "      <td>0.001499</td>\n",
       "      <td>0.000974</td>\n",
       "      <td>-0.000365</td>\n",
       "      <td>-0.001921</td>\n",
       "      <td>0.001979</td>\n",
       "    </tr>\n",
       "  </tbody>\n",
       "</table>\n",
       "<p>103 rows × 1603 columns</p>\n",
       "</div>"
      ],
      "text/plain": [
       "          id                 created        key  \\\n",
       "16    729718 2019-06-11 07:38:48.729  BALT-1236   \n",
       "22    729404 2019-07-17 06:20:57.476  BALT-1550   \n",
       "30    728883 2019-09-09 08:06:08.531  BALT-2071   \n",
       "32    728458 2019-10-21 06:23:16.586  BALT-2496   \n",
       "159   729054 2019-08-23 06:24:00.121  BALT-1900   \n",
       "...      ...                     ...        ...   \n",
       "9537  687555 2020-04-02 12:45:35.000    XXO-315   \n",
       "9585  729633 2019-06-25 12:32:21.254  BALT-1321   \n",
       "9586  728296 2019-11-06 10:09:07.899  BALT-2658   \n",
       "9587  727996 2019-11-30 05:22:23.728  BALT-2958   \n",
       "9588  726646 2020-02-25 14:58:33.148  BALT-4308   \n",
       "\n",
       "                                                summary  project_id  \\\n",
       "16                        give access to ssh of staging          13   \n",
       "22    give access to teacherly repository on the gitlab          13   \n",
       "30                          branch need to be protected          13   \n",
       "32    need to be able to raise staging from themes &...          13   \n",
       "159                       provide staging database-dump          13   \n",
       "...                                                 ...         ...   \n",
       "9537                                          all calls          33   \n",
       "9585                        communications and planning          13   \n",
       "9586                        communications and planning          13   \n",
       "9587                                     communications          13   \n",
       "9588                        communications and planning          13   \n",
       "\n",
       "      assignee_id  creator_id  overall_worklogs         position_x  \\\n",
       "16              1          10               300            missing   \n",
       "22              1          10               300            missing   \n",
       "30              1          10               300            missing   \n",
       "32              1          10               300            missing   \n",
       "159             1          10               600            missing   \n",
       "...           ...         ...               ...                ...   \n",
       "9537           58          58           1707600  менеджер проектов   \n",
       "9585            1          10           2097720            missing   \n",
       "9586            1          10           2328360            missing   \n",
       "9587          193         193           3393960  менеджер проектов   \n",
       "9588            1          10           7014000            missing   \n",
       "\n",
       "             position_y  ...  pca_comments_10  pca_comments_11  \\\n",
       "16      web разработчик  ...         0.391457         0.850506   \n",
       "22      web разработчик  ...         0.302703         0.380628   \n",
       "30      web разработчик  ...        -0.000085         0.012021   \n",
       "32      web разработчик  ...        -0.335568         1.564822   \n",
       "159     web разработчик  ...        -0.000085         0.012021   \n",
       "...                 ...  ...              ...              ...   \n",
       "9537  менеджер проектов  ...        -0.000085         0.012021   \n",
       "9585    web разработчик  ...        -0.000085         0.012021   \n",
       "9586    web разработчик  ...        -0.000085         0.012021   \n",
       "9587  менеджер проектов  ...        -0.000085         0.012021   \n",
       "9588    web разработчик  ...        -0.000085         0.012021   \n",
       "\n",
       "      pca_comments_12  pca_comments_13  pca_comments_14  pca_comments_15  \\\n",
       "16           0.224292        -0.696926        -1.570101         0.325283   \n",
       "22           0.618980        -1.287057        -1.311682        -1.111611   \n",
       "30          -0.001180        -0.008447         0.002454         0.001499   \n",
       "32           0.111538        -0.493907         0.153866        -0.234000   \n",
       "159         -0.001180        -0.008447         0.002454         0.001499   \n",
       "...               ...              ...              ...              ...   \n",
       "9537        -0.001180        -0.008447         0.002454         0.001499   \n",
       "9585        -0.001180        -0.008447         0.002454         0.001499   \n",
       "9586        -0.001180        -0.008447         0.002454         0.001499   \n",
       "9587        -0.001180        -0.008447         0.002454         0.001499   \n",
       "9588        -0.001180        -0.008447         0.002454         0.001499   \n",
       "\n",
       "      pca_comments_16  pca_comments_17  pca_comments_18  pca_comments_19  \n",
       "16           0.251527        -0.529438        -0.982430        -1.003414  \n",
       "22          -1.122638         1.836483        -0.035554        -0.810953  \n",
       "30           0.000974        -0.000365        -0.001921         0.001979  \n",
       "32           0.259314         0.003346         0.339946        -1.583033  \n",
       "159          0.000974        -0.000365        -0.001921         0.001979  \n",
       "...               ...              ...              ...              ...  \n",
       "9537         0.000974        -0.000365        -0.001921         0.001979  \n",
       "9585         0.000974        -0.000365        -0.001921         0.001979  \n",
       "9586         0.000974        -0.000365        -0.001921         0.001979  \n",
       "9587         0.000974        -0.000365        -0.001921         0.001979  \n",
       "9588         0.000974        -0.000365        -0.001921         0.001979  \n",
       "\n",
       "[103 rows x 1603 columns]"
      ]
     },
     "execution_count": 7,
     "metadata": {},
     "output_type": "execute_result"
    }
   ],
   "source": [
    "# Display outliers\n",
    "\n",
    "remove_ids = [727996, 724450, 727714, 700178, 689558, 686977, 823985, 730147, \n",
    "              923360, 689590, 722732, 689154, 824367, 682136]\n",
    "remove_ids += train_data.loc[(train_data['assignee_id'] == 1) & (train_data['creator_id'] == 10), 'id'].to_list()\n",
    "remove_ids += train_data.loc[(train_data['assignee_id'] == 58) & (train_data['creator_id'] == 58), 'id'].to_list()\n",
    "\n",
    "train_data[train_data['id'].isin(remove_ids)].sort_values('overall_worklogs')"
   ]
  },
  {
   "cell_type": "code",
   "execution_count": 8,
   "metadata": {},
   "outputs": [],
   "source": [
    "# Remove outliers from train data\n",
    "\n",
    "mask = (train_data['id'].isin(remove_ids))\n",
    "\n",
    "train_data = train_data[~mask]\n",
    "train_data.index = range(train_data.shape[0])"
   ]
  },
  {
   "cell_type": "markdown",
   "metadata": {},
   "source": [
    "# Local validation data split"
   ]
  },
  {
   "cell_type": "code",
   "execution_count": 9,
   "metadata": {},
   "outputs": [
    {
     "name": "stdout",
     "output_type": "stream",
     "text": [
      "[0, 9, 18, 27, 36]\n"
     ]
    },
    {
     "data": {
      "text/html": [
       "<div>\n",
       "<style scoped>\n",
       "    .dataframe tbody tr th:only-of-type {\n",
       "        vertical-align: middle;\n",
       "    }\n",
       "\n",
       "    .dataframe tbody tr th {\n",
       "        vertical-align: top;\n",
       "    }\n",
       "\n",
       "    .dataframe thead th {\n",
       "        text-align: right;\n",
       "    }\n",
       "</style>\n",
       "<table border=\"1\" class=\"dataframe\">\n",
       "  <thead>\n",
       "    <tr style=\"text-align: right;\">\n",
       "      <th></th>\n",
       "      <th>id</th>\n",
       "      <th>created</th>\n",
       "      <th>key</th>\n",
       "      <th>summary</th>\n",
       "      <th>project_id</th>\n",
       "      <th>assignee_id</th>\n",
       "      <th>creator_id</th>\n",
       "      <th>overall_worklogs</th>\n",
       "      <th>position_x</th>\n",
       "      <th>position_y</th>\n",
       "      <th>...</th>\n",
       "      <th>pca_comments_10</th>\n",
       "      <th>pca_comments_11</th>\n",
       "      <th>pca_comments_12</th>\n",
       "      <th>pca_comments_13</th>\n",
       "      <th>pca_comments_14</th>\n",
       "      <th>pca_comments_15</th>\n",
       "      <th>pca_comments_16</th>\n",
       "      <th>pca_comments_17</th>\n",
       "      <th>pca_comments_18</th>\n",
       "      <th>pca_comments_19</th>\n",
       "    </tr>\n",
       "  </thead>\n",
       "  <tbody>\n",
       "    <tr>\n",
       "      <th>0</th>\n",
       "      <td>730910</td>\n",
       "      <td>2018-05-22 06:22:47.443</td>\n",
       "      <td>BALT-40</td>\n",
       "      <td>swap places select a template with a topic</td>\n",
       "      <td>13</td>\n",
       "      <td>197</td>\n",
       "      <td>197</td>\n",
       "      <td>60</td>\n",
       "      <td>web разработчик</td>\n",
       "      <td>web разработчик</td>\n",
       "      <td>...</td>\n",
       "      <td>-0.000085</td>\n",
       "      <td>0.012021</td>\n",
       "      <td>-0.00118</td>\n",
       "      <td>-0.008447</td>\n",
       "      <td>0.002454</td>\n",
       "      <td>0.001499</td>\n",
       "      <td>0.000974</td>\n",
       "      <td>-0.000365</td>\n",
       "      <td>-0.001921</td>\n",
       "      <td>0.001979</td>\n",
       "    </tr>\n",
       "    <tr>\n",
       "      <th>9</th>\n",
       "      <td>730851</td>\n",
       "      <td>2018-07-23 07:23:58.380</td>\n",
       "      <td>BALT-99</td>\n",
       "      <td>release elastic ip 52.70.203.51 id: eipalloc-9...</td>\n",
       "      <td>13</td>\n",
       "      <td>210</td>\n",
       "      <td>210</td>\n",
       "      <td>300</td>\n",
       "      <td>директор по it</td>\n",
       "      <td>директор по it</td>\n",
       "      <td>...</td>\n",
       "      <td>-0.000085</td>\n",
       "      <td>0.012021</td>\n",
       "      <td>-0.00118</td>\n",
       "      <td>-0.008447</td>\n",
       "      <td>0.002454</td>\n",
       "      <td>0.001499</td>\n",
       "      <td>0.000974</td>\n",
       "      <td>-0.000365</td>\n",
       "      <td>-0.001921</td>\n",
       "      <td>0.001979</td>\n",
       "    </tr>\n",
       "    <tr>\n",
       "      <th>18</th>\n",
       "      <td>729472</td>\n",
       "      <td>2019-07-11 09:03:58.067</td>\n",
       "      <td>BALT-1482</td>\n",
       "      <td>task planning</td>\n",
       "      <td>13</td>\n",
       "      <td>86</td>\n",
       "      <td>86</td>\n",
       "      <td>300</td>\n",
       "      <td>web разработчик</td>\n",
       "      <td>web разработчик</td>\n",
       "      <td>...</td>\n",
       "      <td>-0.000085</td>\n",
       "      <td>0.012021</td>\n",
       "      <td>-0.00118</td>\n",
       "      <td>-0.008447</td>\n",
       "      <td>0.002454</td>\n",
       "      <td>0.001499</td>\n",
       "      <td>0.000974</td>\n",
       "      <td>-0.000365</td>\n",
       "      <td>-0.001921</td>\n",
       "      <td>0.001979</td>\n",
       "    </tr>\n",
       "  </tbody>\n",
       "</table>\n",
       "<p>3 rows × 1603 columns</p>\n",
       "</div>"
      ],
      "text/plain": [
       "        id                 created        key  \\\n",
       "0   730910 2018-05-22 06:22:47.443    BALT-40   \n",
       "9   730851 2018-07-23 07:23:58.380    BALT-99   \n",
       "18  729472 2019-07-11 09:03:58.067  BALT-1482   \n",
       "\n",
       "                                              summary  project_id  \\\n",
       "0          swap places select a template with a topic          13   \n",
       "9   release elastic ip 52.70.203.51 id: eipalloc-9...          13   \n",
       "18                                      task planning          13   \n",
       "\n",
       "    assignee_id  creator_id  overall_worklogs       position_x  \\\n",
       "0           197         197                60  web разработчик   \n",
       "9           210         210               300   директор по it   \n",
       "18           86          86               300  web разработчик   \n",
       "\n",
       "         position_y  ...  pca_comments_10  pca_comments_11  pca_comments_12  \\\n",
       "0   web разработчик  ...        -0.000085         0.012021         -0.00118   \n",
       "9    директор по it  ...        -0.000085         0.012021         -0.00118   \n",
       "18  web разработчик  ...        -0.000085         0.012021         -0.00118   \n",
       "\n",
       "    pca_comments_13  pca_comments_14  pca_comments_15  pca_comments_16  \\\n",
       "0         -0.008447         0.002454         0.001499         0.000974   \n",
       "9         -0.008447         0.002454         0.001499         0.000974   \n",
       "18        -0.008447         0.002454         0.001499         0.000974   \n",
       "\n",
       "    pca_comments_17  pca_comments_18  pca_comments_19  \n",
       "0         -0.000365        -0.001921         0.001979  \n",
       "9         -0.000365        -0.001921         0.001979  \n",
       "18        -0.000365        -0.001921         0.001979  \n",
       "\n",
       "[3 rows x 1603 columns]"
      ]
     },
     "metadata": {},
     "output_type": "display_data"
    },
    {
     "data": {
      "text/html": [
       "<div>\n",
       "<style scoped>\n",
       "    .dataframe tbody tr th:only-of-type {\n",
       "        vertical-align: middle;\n",
       "    }\n",
       "\n",
       "    .dataframe tbody tr th {\n",
       "        vertical-align: top;\n",
       "    }\n",
       "\n",
       "    .dataframe thead th {\n",
       "        text-align: right;\n",
       "    }\n",
       "</style>\n",
       "<table border=\"1\" class=\"dataframe\">\n",
       "  <thead>\n",
       "    <tr style=\"text-align: right;\">\n",
       "      <th></th>\n",
       "      <th>id</th>\n",
       "      <th>created</th>\n",
       "      <th>key</th>\n",
       "      <th>summary</th>\n",
       "      <th>project_id</th>\n",
       "      <th>assignee_id</th>\n",
       "      <th>creator_id</th>\n",
       "      <th>overall_worklogs</th>\n",
       "      <th>position_x</th>\n",
       "      <th>position_y</th>\n",
       "      <th>...</th>\n",
       "      <th>pca_comments_10</th>\n",
       "      <th>pca_comments_11</th>\n",
       "      <th>pca_comments_12</th>\n",
       "      <th>pca_comments_13</th>\n",
       "      <th>pca_comments_14</th>\n",
       "      <th>pca_comments_15</th>\n",
       "      <th>pca_comments_16</th>\n",
       "      <th>pca_comments_17</th>\n",
       "      <th>pca_comments_18</th>\n",
       "      <th>pca_comments_19</th>\n",
       "    </tr>\n",
       "  </thead>\n",
       "  <tbody>\n",
       "    <tr>\n",
       "      <th>1</th>\n",
       "      <td>730192</td>\n",
       "      <td>2018-11-14 10:32:18.948</td>\n",
       "      <td>BALT-762</td>\n",
       "      <td>added terraform config to create kms key and a...</td>\n",
       "      <td>13</td>\n",
       "      <td>210</td>\n",
       "      <td>210</td>\n",
       "      <td>60</td>\n",
       "      <td>директор по it</td>\n",
       "      <td>директор по it</td>\n",
       "      <td>...</td>\n",
       "      <td>-0.000085</td>\n",
       "      <td>0.012021</td>\n",
       "      <td>-0.00118</td>\n",
       "      <td>-0.008447</td>\n",
       "      <td>0.002454</td>\n",
       "      <td>0.001499</td>\n",
       "      <td>0.000974</td>\n",
       "      <td>-0.000365</td>\n",
       "      <td>-0.001921</td>\n",
       "      <td>0.001979</td>\n",
       "    </tr>\n",
       "    <tr>\n",
       "      <th>2</th>\n",
       "      <td>726278</td>\n",
       "      <td>2020-03-24 08:17:18.389</td>\n",
       "      <td>BALT-4676</td>\n",
       "      <td>check context menu</td>\n",
       "      <td>13</td>\n",
       "      <td>208</td>\n",
       "      <td>33</td>\n",
       "      <td>60</td>\n",
       "      <td>web разработчик</td>\n",
       "      <td>web разработчик</td>\n",
       "      <td>...</td>\n",
       "      <td>-0.000085</td>\n",
       "      <td>0.012021</td>\n",
       "      <td>-0.00118</td>\n",
       "      <td>-0.008447</td>\n",
       "      <td>0.002454</td>\n",
       "      <td>0.001499</td>\n",
       "      <td>0.000974</td>\n",
       "      <td>-0.000365</td>\n",
       "      <td>-0.001921</td>\n",
       "      <td>0.001979</td>\n",
       "    </tr>\n",
       "    <tr>\n",
       "      <th>3</th>\n",
       "      <td>730915</td>\n",
       "      <td>2018-05-22 06:16:44.070</td>\n",
       "      <td>BALT-35</td>\n",
       "      <td>rename \"your topic\" in \"choose your class\"</td>\n",
       "      <td>13</td>\n",
       "      <td>197</td>\n",
       "      <td>197</td>\n",
       "      <td>120</td>\n",
       "      <td>web разработчик</td>\n",
       "      <td>web разработчик</td>\n",
       "      <td>...</td>\n",
       "      <td>-0.000085</td>\n",
       "      <td>0.012021</td>\n",
       "      <td>-0.00118</td>\n",
       "      <td>-0.008447</td>\n",
       "      <td>0.002454</td>\n",
       "      <td>0.001499</td>\n",
       "      <td>0.000974</td>\n",
       "      <td>-0.000365</td>\n",
       "      <td>-0.001921</td>\n",
       "      <td>0.001979</td>\n",
       "    </tr>\n",
       "  </tbody>\n",
       "</table>\n",
       "<p>3 rows × 1603 columns</p>\n",
       "</div>"
      ],
      "text/plain": [
       "       id                 created        key  \\\n",
       "1  730192 2018-11-14 10:32:18.948   BALT-762   \n",
       "2  726278 2020-03-24 08:17:18.389  BALT-4676   \n",
       "3  730915 2018-05-22 06:16:44.070    BALT-35   \n",
       "\n",
       "                                             summary  project_id  assignee_id  \\\n",
       "1  added terraform config to create kms key and a...          13          210   \n",
       "2                                 check context menu          13          208   \n",
       "3         rename \"your topic\" in \"choose your class\"          13          197   \n",
       "\n",
       "   creator_id  overall_worklogs       position_x       position_y  ...  \\\n",
       "1         210                60   директор по it   директор по it  ...   \n",
       "2          33                60  web разработчик  web разработчик  ...   \n",
       "3         197               120  web разработчик  web разработчик  ...   \n",
       "\n",
       "   pca_comments_10  pca_comments_11  pca_comments_12  pca_comments_13  \\\n",
       "1        -0.000085         0.012021         -0.00118        -0.008447   \n",
       "2        -0.000085         0.012021         -0.00118        -0.008447   \n",
       "3        -0.000085         0.012021         -0.00118        -0.008447   \n",
       "\n",
       "   pca_comments_14  pca_comments_15  pca_comments_16  pca_comments_17  \\\n",
       "1         0.002454         0.001499         0.000974        -0.000365   \n",
       "2         0.002454         0.001499         0.000974        -0.000365   \n",
       "3         0.002454         0.001499         0.000974        -0.000365   \n",
       "\n",
       "   pca_comments_18  pca_comments_19  \n",
       "1        -0.001921         0.001979  \n",
       "2        -0.001921         0.001979  \n",
       "3        -0.001921         0.001979  \n",
       "\n",
       "[3 rows x 1603 columns]"
      ]
     },
     "metadata": {},
     "output_type": "display_data"
    }
   ],
   "source": [
    "val_step = 9\n",
    "val_ids = [x for x in range(train_data.shape[0]) if x % val_step == 0]\n",
    "train_ids = [x for x in range(train_data.shape[0]) if x % val_step != 0]\n",
    "print(val_ids[:5])\n",
    "\n",
    "train = train_data.loc[train_ids]\n",
    "val = train_data.loc[val_ids]\n",
    "\n",
    "display(val.head(3))\n",
    "display(train.head(3))"
   ]
  },
  {
   "cell_type": "markdown",
   "metadata": {},
   "source": [
    "# Catboost"
   ]
  },
  {
   "cell_type": "code",
   "execution_count": 10,
   "metadata": {},
   "outputs": [],
   "source": [
    "class Model():\n",
    "    def __init__(self, n_models, model_params=None, text_features=None):\n",
    "        self.n_models = n_models\n",
    "        self.models = []\n",
    "        self.model_predictions = []\n",
    "        self.predictions_summary = None\n",
    "        self.model_params = model_params \n",
    "        self.text_features = text_features\n",
    "        \n",
    "    def fit(self, X, y):\n",
    "        for model_number in range(self.n_models):\n",
    "            print(model_number)\n",
    "            \n",
    "            # Model params\n",
    "            objective = self.model_params['objective']\n",
    "            iterations = self.model_params['iterations']\n",
    "            learning_rate = self.model_params['learning_rate'] \n",
    "            random_state = self.model_params['random_state'] + self.n_models ** 2 + model_number\n",
    "            early_stopping_rounds = self.model_params['early_stopping_rounds']\n",
    "            cat_features = self.model_params['cat_features']\n",
    "            one_hot_max_size = self.model_params['one_hot_max_size']\n",
    "            \n",
    "            train_idx = [x for x in range(X.shape[0]) if x%self.n_models != model_number]\n",
    "            val_idx = [x for x in range(X.shape[0]) if x%self.n_models == model_number]            \n",
    "            \n",
    "            X_train = X.iloc[train_idx]\n",
    "            y_train = y.iloc[train_idx]\n",
    "            \n",
    "            X_val = X.iloc[val_idx]\n",
    "            y_val = y.iloc[val_idx]\n",
    "          \n",
    "            \n",
    "            train_dataset = Pool(data=X_train, label=y_train, cat_features=cat_features, text_features=self.text_features)\n",
    "            eval_dataset = Pool(data=X_val, label=y_val, cat_features=cat_features, text_features=self.text_features)  \n",
    "\n",
    "            \n",
    "            model = CatBoostRegressor(objective=objective, iterations=iterations,\n",
    "                                      learning_rate=learning_rate, random_state=random_state, \n",
    "                                      one_hot_max_size=one_hot_max_size) \n",
    "\n",
    "            model.fit(train_dataset, eval_set=eval_dataset, silent=True, plot=True,\n",
    "                      early_stopping_rounds=early_stopping_rounds)\n",
    "            \n",
    "            self.models.append(model.copy())   \n",
    "            \n",
    "        \n",
    "    def predict(self, X):\n",
    "        self.model_predictions = []\n",
    "        for model_number in range(self.n_models):\n",
    "            model = self.models[model_number]\n",
    "            self.model_predictions.append(model.predict(X))  \n",
    "            \n",
    "        self.predictions_summary = pd.DataFrame(data=np.array(self.model_predictions)).T\n",
    "        self.predictions_summary['predictions'] = (self.predictions_summary[[x for x in range(self.n_models)]]).mean(axis=1)\n",
    "            \n",
    "        return self.predictions_summary    "
   ]
  },
  {
   "cell_type": "markdown",
   "metadata": {},
   "source": [
    "## Local Validation"
   ]
  },
  {
   "cell_type": "code",
   "execution_count": 11,
   "metadata": {
    "scrolled": true
   },
   "outputs": [
    {
     "name": "stdout",
     "output_type": "stream",
     "text": [
      "0\n"
     ]
    },
    {
     "name": "stderr",
     "output_type": "stream",
     "text": [
      "C:\\Venvs\\AltayChamp\\lib\\site-packages\\catboost\\core.py:1419: FutureWarning: iteritems is deprecated and will be removed in a future version. Use .items instead.\n",
      "  self._init_pool(data, label, cat_features, text_features, embedding_features, embedding_features_data, pairs, weight,\n"
     ]
    },
    {
     "data": {
      "application/vnd.jupyter.widget-view+json": {
       "model_id": "cfffae55ce3245759a658a07fba8126b",
       "version_major": 2,
       "version_minor": 0
      },
      "text/plain": [
       "MetricVisualizer(layout=Layout(align_self='stretch', height='500px'))"
      ]
     },
     "metadata": {},
     "output_type": "display_data"
    },
    {
     "name": "stdout",
     "output_type": "stream",
     "text": [
      "1\n"
     ]
    },
    {
     "data": {
      "application/vnd.jupyter.widget-view+json": {
       "model_id": "fe7ded39900246fa8beceeb904f880a2",
       "version_major": 2,
       "version_minor": 0
      },
      "text/plain": [
       "MetricVisualizer(layout=Layout(align_self='stretch', height='500px'))"
      ]
     },
     "metadata": {},
     "output_type": "display_data"
    },
    {
     "name": "stdout",
     "output_type": "stream",
     "text": [
      "2\n"
     ]
    },
    {
     "data": {
      "application/vnd.jupyter.widget-view+json": {
       "model_id": "13ac2fc3c86a492c92f52d5a8b5481a1",
       "version_major": 2,
       "version_minor": 0
      },
      "text/plain": [
       "MetricVisualizer(layout=Layout(align_self='stretch', height='500px'))"
      ]
     },
     "metadata": {},
     "output_type": "display_data"
    },
    {
     "name": "stdout",
     "output_type": "stream",
     "text": [
      "3\n"
     ]
    },
    {
     "data": {
      "application/vnd.jupyter.widget-view+json": {
       "model_id": "da5b78789a374554a5bf7822b24953a7",
       "version_major": 2,
       "version_minor": 0
      },
      "text/plain": [
       "MetricVisualizer(layout=Layout(align_self='stretch', height='500px'))"
      ]
     },
     "metadata": {},
     "output_type": "display_data"
    },
    {
     "name": "stdout",
     "output_type": "stream",
     "text": [
      "0\n"
     ]
    },
    {
     "name": "stderr",
     "output_type": "stream",
     "text": [
      "C:\\Venvs\\AltayChamp\\lib\\site-packages\\catboost\\core.py:1419: FutureWarning: iteritems is deprecated and will be removed in a future version. Use .items instead.\n",
      "  self._init_pool(data, label, cat_features, text_features, embedding_features, embedding_features_data, pairs, weight,\n",
      "C:\\Venvs\\AltayChamp\\lib\\site-packages\\catboost\\core.py:1419: FutureWarning: iteritems is deprecated and will be removed in a future version. Use .items instead.\n",
      "  self._init_pool(data, label, cat_features, text_features, embedding_features, embedding_features_data, pairs, weight,\n",
      "C:\\Venvs\\AltayChamp\\lib\\site-packages\\catboost\\core.py:1419: FutureWarning: iteritems is deprecated and will be removed in a future version. Use .items instead.\n",
      "  self._init_pool(data, label, cat_features, text_features, embedding_features, embedding_features_data, pairs, weight,\n"
     ]
    },
    {
     "data": {
      "application/vnd.jupyter.widget-view+json": {
       "model_id": "ae1f36215b404aa8b0ab21b93fcf8085",
       "version_major": 2,
       "version_minor": 0
      },
      "text/plain": [
       "MetricVisualizer(layout=Layout(align_self='stretch', height='500px'))"
      ]
     },
     "metadata": {},
     "output_type": "display_data"
    },
    {
     "name": "stdout",
     "output_type": "stream",
     "text": [
      "1\n"
     ]
    },
    {
     "data": {
      "application/vnd.jupyter.widget-view+json": {
       "model_id": "cfc3c5e81f12436782c88fdf411c3566",
       "version_major": 2,
       "version_minor": 0
      },
      "text/plain": [
       "MetricVisualizer(layout=Layout(align_self='stretch', height='500px'))"
      ]
     },
     "metadata": {},
     "output_type": "display_data"
    },
    {
     "name": "stdout",
     "output_type": "stream",
     "text": [
      "2\n"
     ]
    },
    {
     "data": {
      "application/vnd.jupyter.widget-view+json": {
       "model_id": "35b7fdec567e473086367208ccf5fc3b",
       "version_major": 2,
       "version_minor": 0
      },
      "text/plain": [
       "MetricVisualizer(layout=Layout(align_self='stretch', height='500px'))"
      ]
     },
     "metadata": {},
     "output_type": "display_data"
    },
    {
     "name": "stdout",
     "output_type": "stream",
     "text": [
      "3\n"
     ]
    },
    {
     "data": {
      "application/vnd.jupyter.widget-view+json": {
       "model_id": "c1bd4776e79e460c9ecf50f25aaceb01",
       "version_major": 2,
       "version_minor": 0
      },
      "text/plain": [
       "MetricVisualizer(layout=Layout(align_self='stretch', height='500px'))"
      ]
     },
     "metadata": {},
     "output_type": "display_data"
    },
    {
     "name": "stdout",
     "output_type": "stream",
     "text": [
      "4\n"
     ]
    },
    {
     "data": {
      "application/vnd.jupyter.widget-view+json": {
       "model_id": "e4dbb8d45f0e44a58edd34ed7f82add4",
       "version_major": 2,
       "version_minor": 0
      },
      "text/plain": [
       "MetricVisualizer(layout=Layout(align_self='stretch', height='500px'))"
      ]
     },
     "metadata": {},
     "output_type": "display_data"
    },
    {
     "name": "stdout",
     "output_type": "stream",
     "text": [
      "0\n"
     ]
    },
    {
     "name": "stderr",
     "output_type": "stream",
     "text": [
      "C:\\Venvs\\AltayChamp\\lib\\site-packages\\catboost\\core.py:1419: FutureWarning: iteritems is deprecated and will be removed in a future version. Use .items instead.\n",
      "  self._init_pool(data, label, cat_features, text_features, embedding_features, embedding_features_data, pairs, weight,\n",
      "C:\\Venvs\\AltayChamp\\lib\\site-packages\\catboost\\core.py:1419: FutureWarning: iteritems is deprecated and will be removed in a future version. Use .items instead.\n",
      "  self._init_pool(data, label, cat_features, text_features, embedding_features, embedding_features_data, pairs, weight,\n",
      "C:\\Venvs\\AltayChamp\\lib\\site-packages\\catboost\\core.py:1419: FutureWarning: iteritems is deprecated and will be removed in a future version. Use .items instead.\n",
      "  self._init_pool(data, label, cat_features, text_features, embedding_features, embedding_features_data, pairs, weight,\n"
     ]
    },
    {
     "data": {
      "application/vnd.jupyter.widget-view+json": {
       "model_id": "b0dd38753a784219b8d2297de95b2d98",
       "version_major": 2,
       "version_minor": 0
      },
      "text/plain": [
       "MetricVisualizer(layout=Layout(align_self='stretch', height='500px'))"
      ]
     },
     "metadata": {},
     "output_type": "display_data"
    },
    {
     "name": "stdout",
     "output_type": "stream",
     "text": [
      "1\n"
     ]
    },
    {
     "data": {
      "application/vnd.jupyter.widget-view+json": {
       "model_id": "52adf4ae5e754ea2a3c981a17dacc457",
       "version_major": 2,
       "version_minor": 0
      },
      "text/plain": [
       "MetricVisualizer(layout=Layout(align_self='stretch', height='500px'))"
      ]
     },
     "metadata": {},
     "output_type": "display_data"
    },
    {
     "name": "stdout",
     "output_type": "stream",
     "text": [
      "2\n"
     ]
    },
    {
     "data": {
      "application/vnd.jupyter.widget-view+json": {
       "model_id": "814fffcb11d54bcb9a52fd463fbddea9",
       "version_major": 2,
       "version_minor": 0
      },
      "text/plain": [
       "MetricVisualizer(layout=Layout(align_self='stretch', height='500px'))"
      ]
     },
     "metadata": {},
     "output_type": "display_data"
    },
    {
     "name": "stdout",
     "output_type": "stream",
     "text": [
      "3\n"
     ]
    },
    {
     "data": {
      "application/vnd.jupyter.widget-view+json": {
       "model_id": "c2d70437f5c0462b874e24f706cb245e",
       "version_major": 2,
       "version_minor": 0
      },
      "text/plain": [
       "MetricVisualizer(layout=Layout(align_self='stretch', height='500px'))"
      ]
     },
     "metadata": {},
     "output_type": "display_data"
    },
    {
     "name": "stdout",
     "output_type": "stream",
     "text": [
      "4\n"
     ]
    },
    {
     "data": {
      "application/vnd.jupyter.widget-view+json": {
       "model_id": "d1ebc0ea32264189a45afc4003dde1f3",
       "version_major": 2,
       "version_minor": 0
      },
      "text/plain": [
       "MetricVisualizer(layout=Layout(align_self='stretch', height='500px'))"
      ]
     },
     "metadata": {},
     "output_type": "display_data"
    },
    {
     "name": "stdout",
     "output_type": "stream",
     "text": [
      "5\n"
     ]
    },
    {
     "data": {
      "application/vnd.jupyter.widget-view+json": {
       "model_id": "d181d826e8cf42f7a9a2883a4a12b094",
       "version_major": 2,
       "version_minor": 0
      },
      "text/plain": [
       "MetricVisualizer(layout=Layout(align_self='stretch', height='500px'))"
      ]
     },
     "metadata": {},
     "output_type": "display_data"
    },
    {
     "name": "stdout",
     "output_type": "stream",
     "text": [
      "0\n"
     ]
    },
    {
     "name": "stderr",
     "output_type": "stream",
     "text": [
      "C:\\Venvs\\AltayChamp\\lib\\site-packages\\catboost\\core.py:1419: FutureWarning: iteritems is deprecated and will be removed in a future version. Use .items instead.\n",
      "  self._init_pool(data, label, cat_features, text_features, embedding_features, embedding_features_data, pairs, weight,\n",
      "C:\\Venvs\\AltayChamp\\lib\\site-packages\\catboost\\core.py:1419: FutureWarning: iteritems is deprecated and will be removed in a future version. Use .items instead.\n",
      "  self._init_pool(data, label, cat_features, text_features, embedding_features, embedding_features_data, pairs, weight,\n",
      "C:\\Venvs\\AltayChamp\\lib\\site-packages\\catboost\\core.py:1419: FutureWarning: iteritems is deprecated and will be removed in a future version. Use .items instead.\n",
      "  self._init_pool(data, label, cat_features, text_features, embedding_features, embedding_features_data, pairs, weight,\n"
     ]
    },
    {
     "data": {
      "application/vnd.jupyter.widget-view+json": {
       "model_id": "5b9f0e755d764cfcbd187b29962e7feb",
       "version_major": 2,
       "version_minor": 0
      },
      "text/plain": [
       "MetricVisualizer(layout=Layout(align_self='stretch', height='500px'))"
      ]
     },
     "metadata": {},
     "output_type": "display_data"
    },
    {
     "name": "stdout",
     "output_type": "stream",
     "text": [
      "1\n"
     ]
    },
    {
     "data": {
      "application/vnd.jupyter.widget-view+json": {
       "model_id": "abae375f738a43fb9c64b321e3339329",
       "version_major": 2,
       "version_minor": 0
      },
      "text/plain": [
       "MetricVisualizer(layout=Layout(align_self='stretch', height='500px'))"
      ]
     },
     "metadata": {},
     "output_type": "display_data"
    },
    {
     "name": "stdout",
     "output_type": "stream",
     "text": [
      "2\n"
     ]
    },
    {
     "data": {
      "application/vnd.jupyter.widget-view+json": {
       "model_id": "b232f321ad824fa8a0ef20dce3e72261",
       "version_major": 2,
       "version_minor": 0
      },
      "text/plain": [
       "MetricVisualizer(layout=Layout(align_self='stretch', height='500px'))"
      ]
     },
     "metadata": {},
     "output_type": "display_data"
    },
    {
     "name": "stdout",
     "output_type": "stream",
     "text": [
      "3\n"
     ]
    },
    {
     "data": {
      "application/vnd.jupyter.widget-view+json": {
       "model_id": "048d983a0dd34012af290f8599932104",
       "version_major": 2,
       "version_minor": 0
      },
      "text/plain": [
       "MetricVisualizer(layout=Layout(align_self='stretch', height='500px'))"
      ]
     },
     "metadata": {},
     "output_type": "display_data"
    },
    {
     "name": "stdout",
     "output_type": "stream",
     "text": [
      "4\n"
     ]
    },
    {
     "data": {
      "application/vnd.jupyter.widget-view+json": {
       "model_id": "9d9324e819824dd4b0e6229705f68cc8",
       "version_major": 2,
       "version_minor": 0
      },
      "text/plain": [
       "MetricVisualizer(layout=Layout(align_self='stretch', height='500px'))"
      ]
     },
     "metadata": {},
     "output_type": "display_data"
    },
    {
     "name": "stdout",
     "output_type": "stream",
     "text": [
      "5\n"
     ]
    },
    {
     "data": {
      "application/vnd.jupyter.widget-view+json": {
       "model_id": "0dc40f0464a84c93b6b14335ae71e9a7",
       "version_major": 2,
       "version_minor": 0
      },
      "text/plain": [
       "MetricVisualizer(layout=Layout(align_self='stretch', height='500px'))"
      ]
     },
     "metadata": {},
     "output_type": "display_data"
    },
    {
     "name": "stdout",
     "output_type": "stream",
     "text": [
      "6\n"
     ]
    },
    {
     "data": {
      "application/vnd.jupyter.widget-view+json": {
       "model_id": "020fbaab107b41538ab5da079a4df2cc",
       "version_major": 2,
       "version_minor": 0
      },
      "text/plain": [
       "MetricVisualizer(layout=Layout(align_self='stretch', height='500px'))"
      ]
     },
     "metadata": {},
     "output_type": "display_data"
    },
    {
     "name": "stdout",
     "output_type": "stream",
     "text": [
      "0\n"
     ]
    },
    {
     "name": "stderr",
     "output_type": "stream",
     "text": [
      "C:\\Venvs\\AltayChamp\\lib\\site-packages\\catboost\\core.py:1419: FutureWarning: iteritems is deprecated and will be removed in a future version. Use .items instead.\n",
      "  self._init_pool(data, label, cat_features, text_features, embedding_features, embedding_features_data, pairs, weight,\n",
      "C:\\Venvs\\AltayChamp\\lib\\site-packages\\catboost\\core.py:1419: FutureWarning: iteritems is deprecated and will be removed in a future version. Use .items instead.\n",
      "  self._init_pool(data, label, cat_features, text_features, embedding_features, embedding_features_data, pairs, weight,\n",
      "C:\\Venvs\\AltayChamp\\lib\\site-packages\\catboost\\core.py:1419: FutureWarning: iteritems is deprecated and will be removed in a future version. Use .items instead.\n",
      "  self._init_pool(data, label, cat_features, text_features, embedding_features, embedding_features_data, pairs, weight,\n"
     ]
    },
    {
     "data": {
      "application/vnd.jupyter.widget-view+json": {
       "model_id": "4e480dd97d554c3c80a941ec24508c01",
       "version_major": 2,
       "version_minor": 0
      },
      "text/plain": [
       "MetricVisualizer(layout=Layout(align_self='stretch', height='500px'))"
      ]
     },
     "metadata": {},
     "output_type": "display_data"
    },
    {
     "name": "stdout",
     "output_type": "stream",
     "text": [
      "1\n"
     ]
    },
    {
     "data": {
      "application/vnd.jupyter.widget-view+json": {
       "model_id": "d1d99689f6ec4606aa6182f95e51188b",
       "version_major": 2,
       "version_minor": 0
      },
      "text/plain": [
       "MetricVisualizer(layout=Layout(align_self='stretch', height='500px'))"
      ]
     },
     "metadata": {},
     "output_type": "display_data"
    },
    {
     "name": "stdout",
     "output_type": "stream",
     "text": [
      "2\n"
     ]
    },
    {
     "data": {
      "application/vnd.jupyter.widget-view+json": {
       "model_id": "996d62413edc4310bb5a05ce968e9864",
       "version_major": 2,
       "version_minor": 0
      },
      "text/plain": [
       "MetricVisualizer(layout=Layout(align_self='stretch', height='500px'))"
      ]
     },
     "metadata": {},
     "output_type": "display_data"
    },
    {
     "name": "stdout",
     "output_type": "stream",
     "text": [
      "3\n"
     ]
    },
    {
     "data": {
      "application/vnd.jupyter.widget-view+json": {
       "model_id": "b4ee59ac864b40f9bca60236af2acc03",
       "version_major": 2,
       "version_minor": 0
      },
      "text/plain": [
       "MetricVisualizer(layout=Layout(align_self='stretch', height='500px'))"
      ]
     },
     "metadata": {},
     "output_type": "display_data"
    },
    {
     "name": "stdout",
     "output_type": "stream",
     "text": [
      "4\n"
     ]
    },
    {
     "data": {
      "application/vnd.jupyter.widget-view+json": {
       "model_id": "efa30e0c952f4556a9d625b5f3f41da3",
       "version_major": 2,
       "version_minor": 0
      },
      "text/plain": [
       "MetricVisualizer(layout=Layout(align_self='stretch', height='500px'))"
      ]
     },
     "metadata": {},
     "output_type": "display_data"
    },
    {
     "name": "stdout",
     "output_type": "stream",
     "text": [
      "5\n"
     ]
    },
    {
     "data": {
      "application/vnd.jupyter.widget-view+json": {
       "model_id": "5e51498802ad43c3967a830de6b52963",
       "version_major": 2,
       "version_minor": 0
      },
      "text/plain": [
       "MetricVisualizer(layout=Layout(align_self='stretch', height='500px'))"
      ]
     },
     "metadata": {},
     "output_type": "display_data"
    },
    {
     "name": "stdout",
     "output_type": "stream",
     "text": [
      "6\n"
     ]
    },
    {
     "data": {
      "application/vnd.jupyter.widget-view+json": {
       "model_id": "b5bbc07eb54e48fb83291af45201bcb3",
       "version_major": 2,
       "version_minor": 0
      },
      "text/plain": [
       "MetricVisualizer(layout=Layout(align_self='stretch', height='500px'))"
      ]
     },
     "metadata": {},
     "output_type": "display_data"
    },
    {
     "name": "stdout",
     "output_type": "stream",
     "text": [
      "7\n"
     ]
    },
    {
     "data": {
      "application/vnd.jupyter.widget-view+json": {
       "model_id": "d3f62281032743d99f7bdaf42fe93c69",
       "version_major": 2,
       "version_minor": 0
      },
      "text/plain": [
       "MetricVisualizer(layout=Layout(align_self='stretch', height='500px'))"
      ]
     },
     "metadata": {},
     "output_type": "display_data"
    },
    {
     "name": "stdout",
     "output_type": "stream",
     "text": [
      "0\n"
     ]
    },
    {
     "name": "stderr",
     "output_type": "stream",
     "text": [
      "C:\\Venvs\\AltayChamp\\lib\\site-packages\\catboost\\core.py:1419: FutureWarning: iteritems is deprecated and will be removed in a future version. Use .items instead.\n",
      "  self._init_pool(data, label, cat_features, text_features, embedding_features, embedding_features_data, pairs, weight,\n",
      "C:\\Venvs\\AltayChamp\\lib\\site-packages\\catboost\\core.py:1419: FutureWarning: iteritems is deprecated and will be removed in a future version. Use .items instead.\n",
      "  self._init_pool(data, label, cat_features, text_features, embedding_features, embedding_features_data, pairs, weight,\n",
      "C:\\Venvs\\AltayChamp\\lib\\site-packages\\catboost\\core.py:1419: FutureWarning: iteritems is deprecated and will be removed in a future version. Use .items instead.\n",
      "  self._init_pool(data, label, cat_features, text_features, embedding_features, embedding_features_data, pairs, weight,\n"
     ]
    },
    {
     "data": {
      "application/vnd.jupyter.widget-view+json": {
       "model_id": "e5da084974e04534abed3ebdc15684e6",
       "version_major": 2,
       "version_minor": 0
      },
      "text/plain": [
       "MetricVisualizer(layout=Layout(align_self='stretch', height='500px'))"
      ]
     },
     "metadata": {},
     "output_type": "display_data"
    },
    {
     "name": "stdout",
     "output_type": "stream",
     "text": [
      "1\n"
     ]
    },
    {
     "data": {
      "application/vnd.jupyter.widget-view+json": {
       "model_id": "e6df150ba9e8427681e00e5962f40009",
       "version_major": 2,
       "version_minor": 0
      },
      "text/plain": [
       "MetricVisualizer(layout=Layout(align_self='stretch', height='500px'))"
      ]
     },
     "metadata": {},
     "output_type": "display_data"
    },
    {
     "name": "stdout",
     "output_type": "stream",
     "text": [
      "2\n"
     ]
    },
    {
     "data": {
      "application/vnd.jupyter.widget-view+json": {
       "model_id": "91de47396e3641c7a3b75ea9c704ca90",
       "version_major": 2,
       "version_minor": 0
      },
      "text/plain": [
       "MetricVisualizer(layout=Layout(align_self='stretch', height='500px'))"
      ]
     },
     "metadata": {},
     "output_type": "display_data"
    },
    {
     "name": "stdout",
     "output_type": "stream",
     "text": [
      "3\n"
     ]
    },
    {
     "data": {
      "application/vnd.jupyter.widget-view+json": {
       "model_id": "a61099118b2a40e5a1b8ff3fc9331969",
       "version_major": 2,
       "version_minor": 0
      },
      "text/plain": [
       "MetricVisualizer(layout=Layout(align_self='stretch', height='500px'))"
      ]
     },
     "metadata": {},
     "output_type": "display_data"
    },
    {
     "name": "stdout",
     "output_type": "stream",
     "text": [
      "4\n"
     ]
    },
    {
     "data": {
      "application/vnd.jupyter.widget-view+json": {
       "model_id": "365e4a4979144f738c775c0499062734",
       "version_major": 2,
       "version_minor": 0
      },
      "text/plain": [
       "MetricVisualizer(layout=Layout(align_self='stretch', height='500px'))"
      ]
     },
     "metadata": {},
     "output_type": "display_data"
    },
    {
     "name": "stdout",
     "output_type": "stream",
     "text": [
      "5\n"
     ]
    },
    {
     "data": {
      "application/vnd.jupyter.widget-view+json": {
       "model_id": "641ddeea6cf948a3bc1919fd2c47565f",
       "version_major": 2,
       "version_minor": 0
      },
      "text/plain": [
       "MetricVisualizer(layout=Layout(align_self='stretch', height='500px'))"
      ]
     },
     "metadata": {},
     "output_type": "display_data"
    },
    {
     "name": "stdout",
     "output_type": "stream",
     "text": [
      "6\n"
     ]
    },
    {
     "data": {
      "application/vnd.jupyter.widget-view+json": {
       "model_id": "347e73fff30e4989a364a40566ca5c07",
       "version_major": 2,
       "version_minor": 0
      },
      "text/plain": [
       "MetricVisualizer(layout=Layout(align_self='stretch', height='500px'))"
      ]
     },
     "metadata": {},
     "output_type": "display_data"
    },
    {
     "name": "stdout",
     "output_type": "stream",
     "text": [
      "7\n"
     ]
    },
    {
     "data": {
      "application/vnd.jupyter.widget-view+json": {
       "model_id": "b5e7e0d01ffd4d13a70d0804d89dc385",
       "version_major": 2,
       "version_minor": 0
      },
      "text/plain": [
       "MetricVisualizer(layout=Layout(align_self='stretch', height='500px'))"
      ]
     },
     "metadata": {},
     "output_type": "display_data"
    },
    {
     "name": "stdout",
     "output_type": "stream",
     "text": [
      "8\n"
     ]
    },
    {
     "data": {
      "application/vnd.jupyter.widget-view+json": {
       "model_id": "6c9fa7c8eb01483b86902907bdc5fc98",
       "version_major": 2,
       "version_minor": 0
      },
      "text/plain": [
       "MetricVisualizer(layout=Layout(align_self='stretch', height='500px'))"
      ]
     },
     "metadata": {},
     "output_type": "display_data"
    },
    {
     "name": "stdout",
     "output_type": "stream",
     "text": [
      "CPU times: total: 11min 29s\n",
      "Wall time: 56 s\n"
     ]
    },
    {
     "name": "stderr",
     "output_type": "stream",
     "text": [
      "C:\\Venvs\\AltayChamp\\lib\\site-packages\\catboost\\core.py:1419: FutureWarning: iteritems is deprecated and will be removed in a future version. Use .items instead.\n",
      "  self._init_pool(data, label, cat_features, text_features, embedding_features, embedding_features_data, pairs, weight,\n",
      "C:\\Venvs\\AltayChamp\\lib\\site-packages\\catboost\\core.py:1419: FutureWarning: iteritems is deprecated and will be removed in a future version. Use .items instead.\n",
      "  self._init_pool(data, label, cat_features, text_features, embedding_features, embedding_features_data, pairs, weight,\n"
     ]
    }
   ],
   "source": [
    "%%time\n",
    "target = 'overall_worklogs'\n",
    "\n",
    "features = [str(x) for x in data.columns if 'pca_' in x]\n",
    "features += ['vi', 'ru']\n",
    "cat_features = ['project_id', 'assignee_id', 'creator_id', 'position_x', 'position_y', 'key_code', 'wd', \n",
    "                'hour', 'communication']\n",
    "features += cat_features\n",
    "\n",
    "model_params = {'iterations':2000,\n",
    "                'learning_rate':0.1,\n",
    "                'objective': 'RMSE',\n",
    "                'random_state': 20210926, \n",
    "                'early_stopping_rounds': 100,\n",
    "                'cat_features': cat_features,\n",
    "                'l2_leaf_reg': 11,\n",
    "                'depth': 8,\n",
    "                'one_hot_max_size': 200\n",
    "               }\n",
    "\n",
    "val_predictions = []\n",
    "test_predictions = []\n",
    "for n_models in range(4, 10):\n",
    "    ml = Model(n_models=n_models, model_params=model_params, text_features=None)\n",
    "    ml.fit(train[features], train[target])\n",
    "    \n",
    "    val_predictions.append(ml.predict(val[features])['predictions'])\n",
    "    test_predictions.append(ml.predict(test_data[features])['predictions'])"
   ]
  },
  {
   "cell_type": "code",
   "execution_count": 12,
   "metadata": {},
   "outputs": [
    {
     "data": {
      "text/plain": [
       "0.3128300454319428"
      ]
     },
     "execution_count": 12,
     "metadata": {},
     "output_type": "execute_result"
    }
   ],
   "source": [
    "val_predictions = pd.concat(val_predictions, axis=1).mean(axis=1)\n",
    "test_predictions = pd.concat(test_predictions, axis=1).mean(axis=1)\n",
    "\n",
    "r2_score(val[target], val_predictions)"
   ]
  },
  {
   "cell_type": "markdown",
   "metadata": {},
   "source": [
    "## Submission"
   ]
  },
  {
   "cell_type": "code",
   "execution_count": 13,
   "metadata": {
    "scrolled": true
   },
   "outputs": [
    {
     "name": "stdout",
     "output_type": "stream",
     "text": [
      "0\n"
     ]
    },
    {
     "name": "stderr",
     "output_type": "stream",
     "text": [
      "C:\\Venvs\\AltayChamp\\lib\\site-packages\\catboost\\core.py:1419: FutureWarning: iteritems is deprecated and will be removed in a future version. Use .items instead.\n",
      "  self._init_pool(data, label, cat_features, text_features, embedding_features, embedding_features_data, pairs, weight,\n"
     ]
    },
    {
     "data": {
      "application/vnd.jupyter.widget-view+json": {
       "model_id": "4458fb61b56342b7b4ae6cb9b6c2be02",
       "version_major": 2,
       "version_minor": 0
      },
      "text/plain": [
       "MetricVisualizer(layout=Layout(align_self='stretch', height='500px'))"
      ]
     },
     "metadata": {},
     "output_type": "display_data"
    },
    {
     "name": "stdout",
     "output_type": "stream",
     "text": [
      "1\n"
     ]
    },
    {
     "data": {
      "application/vnd.jupyter.widget-view+json": {
       "model_id": "7baa5cad5d204547a8bbaeaaa7635bec",
       "version_major": 2,
       "version_minor": 0
      },
      "text/plain": [
       "MetricVisualizer(layout=Layout(align_self='stretch', height='500px'))"
      ]
     },
     "metadata": {},
     "output_type": "display_data"
    },
    {
     "name": "stdout",
     "output_type": "stream",
     "text": [
      "2\n"
     ]
    },
    {
     "data": {
      "application/vnd.jupyter.widget-view+json": {
       "model_id": "420250558eeb40afaa938ac608af4920",
       "version_major": 2,
       "version_minor": 0
      },
      "text/plain": [
       "MetricVisualizer(layout=Layout(align_self='stretch', height='500px'))"
      ]
     },
     "metadata": {},
     "output_type": "display_data"
    },
    {
     "name": "stdout",
     "output_type": "stream",
     "text": [
      "3\n"
     ]
    },
    {
     "data": {
      "application/vnd.jupyter.widget-view+json": {
       "model_id": "aec4cd50608b4e6baa6946f26db5fd54",
       "version_major": 2,
       "version_minor": 0
      },
      "text/plain": [
       "MetricVisualizer(layout=Layout(align_self='stretch', height='500px'))"
      ]
     },
     "metadata": {},
     "output_type": "display_data"
    },
    {
     "name": "stdout",
     "output_type": "stream",
     "text": [
      "0\n"
     ]
    },
    {
     "name": "stderr",
     "output_type": "stream",
     "text": [
      "C:\\Venvs\\AltayChamp\\lib\\site-packages\\catboost\\core.py:1419: FutureWarning: iteritems is deprecated and will be removed in a future version. Use .items instead.\n",
      "  self._init_pool(data, label, cat_features, text_features, embedding_features, embedding_features_data, pairs, weight,\n",
      "C:\\Venvs\\AltayChamp\\lib\\site-packages\\catboost\\core.py:1419: FutureWarning: iteritems is deprecated and will be removed in a future version. Use .items instead.\n",
      "  self._init_pool(data, label, cat_features, text_features, embedding_features, embedding_features_data, pairs, weight,\n"
     ]
    },
    {
     "data": {
      "application/vnd.jupyter.widget-view+json": {
       "model_id": "85634e770e0a498b8807cfffa083135f",
       "version_major": 2,
       "version_minor": 0
      },
      "text/plain": [
       "MetricVisualizer(layout=Layout(align_self='stretch', height='500px'))"
      ]
     },
     "metadata": {},
     "output_type": "display_data"
    },
    {
     "name": "stdout",
     "output_type": "stream",
     "text": [
      "1\n"
     ]
    },
    {
     "data": {
      "application/vnd.jupyter.widget-view+json": {
       "model_id": "a93095f557114310819df144cd7d7c2a",
       "version_major": 2,
       "version_minor": 0
      },
      "text/plain": [
       "MetricVisualizer(layout=Layout(align_self='stretch', height='500px'))"
      ]
     },
     "metadata": {},
     "output_type": "display_data"
    },
    {
     "name": "stdout",
     "output_type": "stream",
     "text": [
      "2\n"
     ]
    },
    {
     "data": {
      "application/vnd.jupyter.widget-view+json": {
       "model_id": "471a7ba663254e5cbab0d39f75ccab92",
       "version_major": 2,
       "version_minor": 0
      },
      "text/plain": [
       "MetricVisualizer(layout=Layout(align_self='stretch', height='500px'))"
      ]
     },
     "metadata": {},
     "output_type": "display_data"
    },
    {
     "name": "stdout",
     "output_type": "stream",
     "text": [
      "3\n"
     ]
    },
    {
     "data": {
      "application/vnd.jupyter.widget-view+json": {
       "model_id": "fe1050c2a71f4afc82807a8f6abf11f0",
       "version_major": 2,
       "version_minor": 0
      },
      "text/plain": [
       "MetricVisualizer(layout=Layout(align_self='stretch', height='500px'))"
      ]
     },
     "metadata": {},
     "output_type": "display_data"
    },
    {
     "name": "stdout",
     "output_type": "stream",
     "text": [
      "4\n"
     ]
    },
    {
     "data": {
      "application/vnd.jupyter.widget-view+json": {
       "model_id": "ce0b519e70c346159e20891e01f71999",
       "version_major": 2,
       "version_minor": 0
      },
      "text/plain": [
       "MetricVisualizer(layout=Layout(align_self='stretch', height='500px'))"
      ]
     },
     "metadata": {},
     "output_type": "display_data"
    },
    {
     "name": "stdout",
     "output_type": "stream",
     "text": [
      "0\n"
     ]
    },
    {
     "name": "stderr",
     "output_type": "stream",
     "text": [
      "C:\\Venvs\\AltayChamp\\lib\\site-packages\\catboost\\core.py:1419: FutureWarning: iteritems is deprecated and will be removed in a future version. Use .items instead.\n",
      "  self._init_pool(data, label, cat_features, text_features, embedding_features, embedding_features_data, pairs, weight,\n",
      "C:\\Venvs\\AltayChamp\\lib\\site-packages\\catboost\\core.py:1419: FutureWarning: iteritems is deprecated and will be removed in a future version. Use .items instead.\n",
      "  self._init_pool(data, label, cat_features, text_features, embedding_features, embedding_features_data, pairs, weight,\n"
     ]
    },
    {
     "data": {
      "application/vnd.jupyter.widget-view+json": {
       "model_id": "6918a96653fd40edac8dbaf5aa6c7018",
       "version_major": 2,
       "version_minor": 0
      },
      "text/plain": [
       "MetricVisualizer(layout=Layout(align_self='stretch', height='500px'))"
      ]
     },
     "metadata": {},
     "output_type": "display_data"
    },
    {
     "name": "stdout",
     "output_type": "stream",
     "text": [
      "1\n"
     ]
    },
    {
     "data": {
      "application/vnd.jupyter.widget-view+json": {
       "model_id": "040d79131f734ed8b840fdf5547b1f77",
       "version_major": 2,
       "version_minor": 0
      },
      "text/plain": [
       "MetricVisualizer(layout=Layout(align_self='stretch', height='500px'))"
      ]
     },
     "metadata": {},
     "output_type": "display_data"
    },
    {
     "name": "stdout",
     "output_type": "stream",
     "text": [
      "2\n"
     ]
    },
    {
     "data": {
      "application/vnd.jupyter.widget-view+json": {
       "model_id": "a545bd75689c471c94c9fdaa46ff30d9",
       "version_major": 2,
       "version_minor": 0
      },
      "text/plain": [
       "MetricVisualizer(layout=Layout(align_self='stretch', height='500px'))"
      ]
     },
     "metadata": {},
     "output_type": "display_data"
    },
    {
     "name": "stdout",
     "output_type": "stream",
     "text": [
      "3\n"
     ]
    },
    {
     "data": {
      "application/vnd.jupyter.widget-view+json": {
       "model_id": "bc32013e30fd4c1e81c54e0c4ffd652c",
       "version_major": 2,
       "version_minor": 0
      },
      "text/plain": [
       "MetricVisualizer(layout=Layout(align_self='stretch', height='500px'))"
      ]
     },
     "metadata": {},
     "output_type": "display_data"
    },
    {
     "name": "stdout",
     "output_type": "stream",
     "text": [
      "4\n"
     ]
    },
    {
     "data": {
      "application/vnd.jupyter.widget-view+json": {
       "model_id": "3f2e9eb06364482c8c4bbb0abb270fd1",
       "version_major": 2,
       "version_minor": 0
      },
      "text/plain": [
       "MetricVisualizer(layout=Layout(align_self='stretch', height='500px'))"
      ]
     },
     "metadata": {},
     "output_type": "display_data"
    },
    {
     "name": "stdout",
     "output_type": "stream",
     "text": [
      "5\n"
     ]
    },
    {
     "data": {
      "application/vnd.jupyter.widget-view+json": {
       "model_id": "47a4221c571e4f91a94040a6efe439cf",
       "version_major": 2,
       "version_minor": 0
      },
      "text/plain": [
       "MetricVisualizer(layout=Layout(align_self='stretch', height='500px'))"
      ]
     },
     "metadata": {},
     "output_type": "display_data"
    },
    {
     "name": "stdout",
     "output_type": "stream",
     "text": [
      "0\n"
     ]
    },
    {
     "name": "stderr",
     "output_type": "stream",
     "text": [
      "C:\\Venvs\\AltayChamp\\lib\\site-packages\\catboost\\core.py:1419: FutureWarning: iteritems is deprecated and will be removed in a future version. Use .items instead.\n",
      "  self._init_pool(data, label, cat_features, text_features, embedding_features, embedding_features_data, pairs, weight,\n",
      "C:\\Venvs\\AltayChamp\\lib\\site-packages\\catboost\\core.py:1419: FutureWarning: iteritems is deprecated and will be removed in a future version. Use .items instead.\n",
      "  self._init_pool(data, label, cat_features, text_features, embedding_features, embedding_features_data, pairs, weight,\n"
     ]
    },
    {
     "data": {
      "application/vnd.jupyter.widget-view+json": {
       "model_id": "a11c25d2a9a440ae8baa35e715ea6979",
       "version_major": 2,
       "version_minor": 0
      },
      "text/plain": [
       "MetricVisualizer(layout=Layout(align_self='stretch', height='500px'))"
      ]
     },
     "metadata": {},
     "output_type": "display_data"
    },
    {
     "name": "stdout",
     "output_type": "stream",
     "text": [
      "1\n"
     ]
    },
    {
     "data": {
      "application/vnd.jupyter.widget-view+json": {
       "model_id": "34d77035ffeb41fb9ed084bc0c490a5f",
       "version_major": 2,
       "version_minor": 0
      },
      "text/plain": [
       "MetricVisualizer(layout=Layout(align_self='stretch', height='500px'))"
      ]
     },
     "metadata": {},
     "output_type": "display_data"
    },
    {
     "name": "stdout",
     "output_type": "stream",
     "text": [
      "2\n"
     ]
    },
    {
     "data": {
      "application/vnd.jupyter.widget-view+json": {
       "model_id": "c875d955a6fa41bd845e77699238d2df",
       "version_major": 2,
       "version_minor": 0
      },
      "text/plain": [
       "MetricVisualizer(layout=Layout(align_self='stretch', height='500px'))"
      ]
     },
     "metadata": {},
     "output_type": "display_data"
    },
    {
     "name": "stdout",
     "output_type": "stream",
     "text": [
      "3\n"
     ]
    },
    {
     "data": {
      "application/vnd.jupyter.widget-view+json": {
       "model_id": "82f1705976f64235ae27e48e8ac6cd4e",
       "version_major": 2,
       "version_minor": 0
      },
      "text/plain": [
       "MetricVisualizer(layout=Layout(align_self='stretch', height='500px'))"
      ]
     },
     "metadata": {},
     "output_type": "display_data"
    },
    {
     "name": "stdout",
     "output_type": "stream",
     "text": [
      "4\n"
     ]
    },
    {
     "data": {
      "application/vnd.jupyter.widget-view+json": {
       "model_id": "ccb3f0458b964d8591ed43986ccf6801",
       "version_major": 2,
       "version_minor": 0
      },
      "text/plain": [
       "MetricVisualizer(layout=Layout(align_self='stretch', height='500px'))"
      ]
     },
     "metadata": {},
     "output_type": "display_data"
    },
    {
     "name": "stdout",
     "output_type": "stream",
     "text": [
      "5\n"
     ]
    },
    {
     "data": {
      "application/vnd.jupyter.widget-view+json": {
       "model_id": "04f95f872c0549d78bd997a78dae5d4d",
       "version_major": 2,
       "version_minor": 0
      },
      "text/plain": [
       "MetricVisualizer(layout=Layout(align_self='stretch', height='500px'))"
      ]
     },
     "metadata": {},
     "output_type": "display_data"
    },
    {
     "name": "stdout",
     "output_type": "stream",
     "text": [
      "6\n"
     ]
    },
    {
     "data": {
      "application/vnd.jupyter.widget-view+json": {
       "model_id": "f92820658f194b8a9cdc211f55a5b40c",
       "version_major": 2,
       "version_minor": 0
      },
      "text/plain": [
       "MetricVisualizer(layout=Layout(align_self='stretch', height='500px'))"
      ]
     },
     "metadata": {},
     "output_type": "display_data"
    },
    {
     "name": "stdout",
     "output_type": "stream",
     "text": [
      "0\n"
     ]
    },
    {
     "name": "stderr",
     "output_type": "stream",
     "text": [
      "C:\\Venvs\\AltayChamp\\lib\\site-packages\\catboost\\core.py:1419: FutureWarning: iteritems is deprecated and will be removed in a future version. Use .items instead.\n",
      "  self._init_pool(data, label, cat_features, text_features, embedding_features, embedding_features_data, pairs, weight,\n",
      "C:\\Venvs\\AltayChamp\\lib\\site-packages\\catboost\\core.py:1419: FutureWarning: iteritems is deprecated and will be removed in a future version. Use .items instead.\n",
      "  self._init_pool(data, label, cat_features, text_features, embedding_features, embedding_features_data, pairs, weight,\n"
     ]
    },
    {
     "data": {
      "application/vnd.jupyter.widget-view+json": {
       "model_id": "288f5b1790364f6bb16911ab294f496c",
       "version_major": 2,
       "version_minor": 0
      },
      "text/plain": [
       "MetricVisualizer(layout=Layout(align_self='stretch', height='500px'))"
      ]
     },
     "metadata": {},
     "output_type": "display_data"
    },
    {
     "name": "stdout",
     "output_type": "stream",
     "text": [
      "1\n"
     ]
    },
    {
     "data": {
      "application/vnd.jupyter.widget-view+json": {
       "model_id": "e2f1d83a22ef48b4982c3c8b07575ce6",
       "version_major": 2,
       "version_minor": 0
      },
      "text/plain": [
       "MetricVisualizer(layout=Layout(align_self='stretch', height='500px'))"
      ]
     },
     "metadata": {},
     "output_type": "display_data"
    },
    {
     "name": "stdout",
     "output_type": "stream",
     "text": [
      "2\n"
     ]
    },
    {
     "data": {
      "application/vnd.jupyter.widget-view+json": {
       "model_id": "48575569b344499c98bcb3574c8ece2e",
       "version_major": 2,
       "version_minor": 0
      },
      "text/plain": [
       "MetricVisualizer(layout=Layout(align_self='stretch', height='500px'))"
      ]
     },
     "metadata": {},
     "output_type": "display_data"
    },
    {
     "name": "stdout",
     "output_type": "stream",
     "text": [
      "3\n"
     ]
    },
    {
     "data": {
      "application/vnd.jupyter.widget-view+json": {
       "model_id": "8ad1ea62190648879a5e98ceb4345cbe",
       "version_major": 2,
       "version_minor": 0
      },
      "text/plain": [
       "MetricVisualizer(layout=Layout(align_self='stretch', height='500px'))"
      ]
     },
     "metadata": {},
     "output_type": "display_data"
    },
    {
     "name": "stdout",
     "output_type": "stream",
     "text": [
      "4\n"
     ]
    },
    {
     "data": {
      "application/vnd.jupyter.widget-view+json": {
       "model_id": "d57f4a1a565249b09244c5357b434a03",
       "version_major": 2,
       "version_minor": 0
      },
      "text/plain": [
       "MetricVisualizer(layout=Layout(align_self='stretch', height='500px'))"
      ]
     },
     "metadata": {},
     "output_type": "display_data"
    },
    {
     "name": "stdout",
     "output_type": "stream",
     "text": [
      "5\n"
     ]
    },
    {
     "data": {
      "application/vnd.jupyter.widget-view+json": {
       "model_id": "55859dfdc1d347a89825e404959fc997",
       "version_major": 2,
       "version_minor": 0
      },
      "text/plain": [
       "MetricVisualizer(layout=Layout(align_self='stretch', height='500px'))"
      ]
     },
     "metadata": {},
     "output_type": "display_data"
    },
    {
     "name": "stdout",
     "output_type": "stream",
     "text": [
      "6\n"
     ]
    },
    {
     "data": {
      "application/vnd.jupyter.widget-view+json": {
       "model_id": "a12045b86ada4873a7f0aab405543630",
       "version_major": 2,
       "version_minor": 0
      },
      "text/plain": [
       "MetricVisualizer(layout=Layout(align_self='stretch', height='500px'))"
      ]
     },
     "metadata": {},
     "output_type": "display_data"
    },
    {
     "name": "stdout",
     "output_type": "stream",
     "text": [
      "7\n"
     ]
    },
    {
     "data": {
      "application/vnd.jupyter.widget-view+json": {
       "model_id": "6650c4b4356943eeae3ecc14bdfbd17e",
       "version_major": 2,
       "version_minor": 0
      },
      "text/plain": [
       "MetricVisualizer(layout=Layout(align_self='stretch', height='500px'))"
      ]
     },
     "metadata": {},
     "output_type": "display_data"
    },
    {
     "name": "stdout",
     "output_type": "stream",
     "text": [
      "0\n"
     ]
    },
    {
     "name": "stderr",
     "output_type": "stream",
     "text": [
      "C:\\Venvs\\AltayChamp\\lib\\site-packages\\catboost\\core.py:1419: FutureWarning: iteritems is deprecated and will be removed in a future version. Use .items instead.\n",
      "  self._init_pool(data, label, cat_features, text_features, embedding_features, embedding_features_data, pairs, weight,\n",
      "C:\\Venvs\\AltayChamp\\lib\\site-packages\\catboost\\core.py:1419: FutureWarning: iteritems is deprecated and will be removed in a future version. Use .items instead.\n",
      "  self._init_pool(data, label, cat_features, text_features, embedding_features, embedding_features_data, pairs, weight,\n"
     ]
    },
    {
     "data": {
      "application/vnd.jupyter.widget-view+json": {
       "model_id": "238bce9909e34fa09e2f23584781d569",
       "version_major": 2,
       "version_minor": 0
      },
      "text/plain": [
       "MetricVisualizer(layout=Layout(align_self='stretch', height='500px'))"
      ]
     },
     "metadata": {},
     "output_type": "display_data"
    },
    {
     "name": "stdout",
     "output_type": "stream",
     "text": [
      "1\n"
     ]
    },
    {
     "data": {
      "application/vnd.jupyter.widget-view+json": {
       "model_id": "5068e24a0c05465493134e08781f3826",
       "version_major": 2,
       "version_minor": 0
      },
      "text/plain": [
       "MetricVisualizer(layout=Layout(align_self='stretch', height='500px'))"
      ]
     },
     "metadata": {},
     "output_type": "display_data"
    },
    {
     "name": "stdout",
     "output_type": "stream",
     "text": [
      "2\n"
     ]
    },
    {
     "data": {
      "application/vnd.jupyter.widget-view+json": {
       "model_id": "2d5effdfcf3e4904ae238b787910203d",
       "version_major": 2,
       "version_minor": 0
      },
      "text/plain": [
       "MetricVisualizer(layout=Layout(align_self='stretch', height='500px'))"
      ]
     },
     "metadata": {},
     "output_type": "display_data"
    },
    {
     "name": "stdout",
     "output_type": "stream",
     "text": [
      "3\n"
     ]
    },
    {
     "data": {
      "application/vnd.jupyter.widget-view+json": {
       "model_id": "82b94144e57b428588dcb9d53edb30ce",
       "version_major": 2,
       "version_minor": 0
      },
      "text/plain": [
       "MetricVisualizer(layout=Layout(align_self='stretch', height='500px'))"
      ]
     },
     "metadata": {},
     "output_type": "display_data"
    },
    {
     "name": "stdout",
     "output_type": "stream",
     "text": [
      "4\n"
     ]
    },
    {
     "data": {
      "application/vnd.jupyter.widget-view+json": {
       "model_id": "8d8596daba1744f68c6ae6e004e38624",
       "version_major": 2,
       "version_minor": 0
      },
      "text/plain": [
       "MetricVisualizer(layout=Layout(align_self='stretch', height='500px'))"
      ]
     },
     "metadata": {},
     "output_type": "display_data"
    },
    {
     "name": "stdout",
     "output_type": "stream",
     "text": [
      "5\n"
     ]
    },
    {
     "data": {
      "application/vnd.jupyter.widget-view+json": {
       "model_id": "e96c964826e247d6af7c33508ad35a10",
       "version_major": 2,
       "version_minor": 0
      },
      "text/plain": [
       "MetricVisualizer(layout=Layout(align_self='stretch', height='500px'))"
      ]
     },
     "metadata": {},
     "output_type": "display_data"
    },
    {
     "name": "stdout",
     "output_type": "stream",
     "text": [
      "6\n"
     ]
    },
    {
     "data": {
      "application/vnd.jupyter.widget-view+json": {
       "model_id": "969c6e34613d4cd5bc20d0fc797ac3df",
       "version_major": 2,
       "version_minor": 0
      },
      "text/plain": [
       "MetricVisualizer(layout=Layout(align_self='stretch', height='500px'))"
      ]
     },
     "metadata": {},
     "output_type": "display_data"
    },
    {
     "name": "stdout",
     "output_type": "stream",
     "text": [
      "7\n"
     ]
    },
    {
     "data": {
      "application/vnd.jupyter.widget-view+json": {
       "model_id": "ea18e4db452e45fdb13144f4c63fd329",
       "version_major": 2,
       "version_minor": 0
      },
      "text/plain": [
       "MetricVisualizer(layout=Layout(align_self='stretch', height='500px'))"
      ]
     },
     "metadata": {},
     "output_type": "display_data"
    },
    {
     "name": "stdout",
     "output_type": "stream",
     "text": [
      "8\n"
     ]
    },
    {
     "data": {
      "application/vnd.jupyter.widget-view+json": {
       "model_id": "3dc2b0b5e01c44f9983a7478d4083f71",
       "version_major": 2,
       "version_minor": 0
      },
      "text/plain": [
       "MetricVisualizer(layout=Layout(align_self='stretch', height='500px'))"
      ]
     },
     "metadata": {},
     "output_type": "display_data"
    },
    {
     "name": "stdout",
     "output_type": "stream",
     "text": [
      "CPU times: total: 13min 31s\n",
      "Wall time: 1min 4s\n"
     ]
    },
    {
     "name": "stderr",
     "output_type": "stream",
     "text": [
      "C:\\Venvs\\AltayChamp\\lib\\site-packages\\catboost\\core.py:1419: FutureWarning: iteritems is deprecated and will be removed in a future version. Use .items instead.\n",
      "  self._init_pool(data, label, cat_features, text_features, embedding_features, embedding_features_data, pairs, weight,\n"
     ]
    }
   ],
   "source": [
    "%%time\n",
    "target = 'overall_worklogs'\n",
    "\n",
    "features = [str(x) for x in data.columns if 'pca_' in x]\n",
    "features += ['vi', 'ru']\n",
    "cat_features = ['project_id', 'assignee_id', 'creator_id', 'position_x', 'position_y', 'key_code', 'wd', \n",
    "                'hour', 'communication']\n",
    "features += cat_features\n",
    "\n",
    "model_params = {'iterations':2000,\n",
    "                'learning_rate':0.1,\n",
    "                'objective': 'RMSE',\n",
    "                'random_state': 20210926, \n",
    "                'early_stopping_rounds': 100,\n",
    "                'cat_features': cat_features,\n",
    "                'l2_leaf_reg': 11,\n",
    "                'depth': 8,\n",
    "                'one_hot_max_size': 200\n",
    "               }\n",
    "\n",
    "test_predictions = []\n",
    "for n_models in range(4, 10):\n",
    "    ml = Model(n_models=n_models, model_params=model_params, text_features=None)\n",
    "    ml.fit(train_data[features], train_data[target])    \n",
    "    \n",
    "    test_predictions.append(ml.predict(test_data[features])['predictions'])\n",
    "    \n",
    "test_predictions = pd.concat(test_predictions, axis=1).mean(axis=1)"
   ]
  },
  {
   "cell_type": "code",
   "execution_count": 14,
   "metadata": {},
   "outputs": [],
   "source": [
    "submission['overall_worklogs'] = test_predictions\n",
    "submission.to_csv('submission.csv', index=False)"
   ]
  },
  {
   "cell_type": "code",
   "execution_count": null,
   "metadata": {},
   "outputs": [],
   "source": []
  },
  {
   "cell_type": "code",
   "execution_count": null,
   "metadata": {},
   "outputs": [],
   "source": []
  }
 ],
 "metadata": {
  "accelerator": "GPU",
  "colab": {
   "collapsed_sections": [],
   "name": "baseline.ipynb",
   "provenance": []
  },
  "gpuClass": "standard",
  "kernelspec": {
   "display_name": "AltayChamp",
   "language": "python",
   "name": "altaychamp"
  },
  "language_info": {
   "codemirror_mode": {
    "name": "ipython",
    "version": 3
   },
   "file_extension": ".py",
   "mimetype": "text/x-python",
   "name": "python",
   "nbconvert_exporter": "python",
   "pygments_lexer": "ipython3",
   "version": "3.9.5"
  },
  "toc": {
   "base_numbering": 1,
   "nav_menu": {},
   "number_sections": true,
   "sideBar": true,
   "skip_h1_title": false,
   "title_cell": "Table of Contents",
   "title_sidebar": "Contents",
   "toc_cell": false,
   "toc_position": {
    "height": "calc(100% - 180px)",
    "left": "10px",
    "top": "150px",
    "width": "460.8px"
   },
   "toc_section_display": true,
   "toc_window_display": true
  }
 },
 "nbformat": 4,
 "nbformat_minor": 1
}
